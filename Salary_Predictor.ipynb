{
 "cells": [
  {
   "cell_type": "code",
   "execution_count": 1,
   "id": "849bf295-a557-4385-b609-fa8a3967f56d",
   "metadata": {},
   "outputs": [],
   "source": [
    "import numpy as np\n",
    "import pandas as pd\n",
    "import matplotlib.pyplot as plt\n",
    "import seaborn as sns\n",
    "import random"
   ]
  },
  {
   "cell_type": "code",
   "execution_count": 2,
   "id": "d807c2fa-57ca-4a08-93d6-2d1ca20f07af",
   "metadata": {},
   "outputs": [],
   "source": [
    "data = pd.read_csv(\"Salary Data.csv\")"
   ]
  },
  {
   "cell_type": "markdown",
   "id": "a292947f-7848-4fe3-a0ca-d94dbdf2af7c",
   "metadata": {},
   "source": [
    "## Data Cleaning"
   ]
  },
  {
   "cell_type": "code",
   "execution_count": 3,
   "id": "54e5e789-3d3f-4541-a130-909732154496",
   "metadata": {},
   "outputs": [
    {
     "data": {
      "text/html": [
       "<div>\n",
       "<style scoped>\n",
       "    .dataframe tbody tr th:only-of-type {\n",
       "        vertical-align: middle;\n",
       "    }\n",
       "\n",
       "    .dataframe tbody tr th {\n",
       "        vertical-align: top;\n",
       "    }\n",
       "\n",
       "    .dataframe thead th {\n",
       "        text-align: right;\n",
       "    }\n",
       "</style>\n",
       "<table border=\"1\" class=\"dataframe\">\n",
       "  <thead>\n",
       "    <tr style=\"text-align: right;\">\n",
       "      <th></th>\n",
       "      <th>Age</th>\n",
       "      <th>Gender</th>\n",
       "      <th>Education Level</th>\n",
       "      <th>Job Title</th>\n",
       "      <th>Years of Experience</th>\n",
       "      <th>Salary</th>\n",
       "    </tr>\n",
       "  </thead>\n",
       "  <tbody>\n",
       "    <tr>\n",
       "      <th>0</th>\n",
       "      <td>32.0</td>\n",
       "      <td>Male</td>\n",
       "      <td>Bachelor's</td>\n",
       "      <td>Software Engineer</td>\n",
       "      <td>5.0</td>\n",
       "      <td>90000.0</td>\n",
       "    </tr>\n",
       "    <tr>\n",
       "      <th>1</th>\n",
       "      <td>28.0</td>\n",
       "      <td>Female</td>\n",
       "      <td>Master's</td>\n",
       "      <td>Data Analyst</td>\n",
       "      <td>3.0</td>\n",
       "      <td>65000.0</td>\n",
       "    </tr>\n",
       "    <tr>\n",
       "      <th>2</th>\n",
       "      <td>45.0</td>\n",
       "      <td>Male</td>\n",
       "      <td>PhD</td>\n",
       "      <td>Senior Manager</td>\n",
       "      <td>15.0</td>\n",
       "      <td>150000.0</td>\n",
       "    </tr>\n",
       "    <tr>\n",
       "      <th>3</th>\n",
       "      <td>36.0</td>\n",
       "      <td>Female</td>\n",
       "      <td>Bachelor's</td>\n",
       "      <td>Sales Associate</td>\n",
       "      <td>7.0</td>\n",
       "      <td>60000.0</td>\n",
       "    </tr>\n",
       "    <tr>\n",
       "      <th>4</th>\n",
       "      <td>52.0</td>\n",
       "      <td>Male</td>\n",
       "      <td>Master's</td>\n",
       "      <td>Director</td>\n",
       "      <td>20.0</td>\n",
       "      <td>200000.0</td>\n",
       "    </tr>\n",
       "  </tbody>\n",
       "</table>\n",
       "</div>"
      ],
      "text/plain": [
       "    Age  Gender Education Level          Job Title  Years of Experience  \\\n",
       "0  32.0    Male      Bachelor's  Software Engineer                  5.0   \n",
       "1  28.0  Female        Master's       Data Analyst                  3.0   \n",
       "2  45.0    Male             PhD     Senior Manager                 15.0   \n",
       "3  36.0  Female      Bachelor's    Sales Associate                  7.0   \n",
       "4  52.0    Male        Master's           Director                 20.0   \n",
       "\n",
       "     Salary  \n",
       "0   90000.0  \n",
       "1   65000.0  \n",
       "2  150000.0  \n",
       "3   60000.0  \n",
       "4  200000.0  "
      ]
     },
     "execution_count": 3,
     "metadata": {},
     "output_type": "execute_result"
    }
   ],
   "source": [
    "data.head()"
   ]
  },
  {
   "cell_type": "code",
   "execution_count": 4,
   "id": "18e216e6-514e-47d5-82f9-94497c0f730e",
   "metadata": {},
   "outputs": [
    {
     "data": {
      "text/plain": [
       "Age                    2\n",
       "Gender                 2\n",
       "Education Level        2\n",
       "Job Title              2\n",
       "Years of Experience    2\n",
       "Salary                 2\n",
       "dtype: int64"
      ]
     },
     "execution_count": 4,
     "metadata": {},
     "output_type": "execute_result"
    }
   ],
   "source": [
    "data.isnull().sum()"
   ]
  },
  {
   "cell_type": "code",
   "execution_count": 5,
   "id": "6b4c3474-74e6-4546-9704-6b286dece01b",
   "metadata": {},
   "outputs": [
    {
     "data": {
      "text/plain": [
       "<bound method DataFrame.fillna of       Age  Gender Education Level                      Job Title  \\\n",
       "0    32.0    Male      Bachelor's              Software Engineer   \n",
       "1    28.0  Female        Master's                   Data Analyst   \n",
       "2    45.0    Male             PhD                 Senior Manager   \n",
       "3    36.0  Female      Bachelor's                Sales Associate   \n",
       "4    52.0    Male        Master's                       Director   \n",
       "..    ...     ...             ...                            ...   \n",
       "370  35.0  Female      Bachelor's       Senior Marketing Analyst   \n",
       "371  43.0    Male        Master's         Director of Operations   \n",
       "372  29.0  Female      Bachelor's         Junior Project Manager   \n",
       "373  34.0    Male      Bachelor's  Senior Operations Coordinator   \n",
       "374  44.0  Female             PhD        Senior Business Analyst   \n",
       "\n",
       "     Years of Experience    Salary  \n",
       "0                    5.0   90000.0  \n",
       "1                    3.0   65000.0  \n",
       "2                   15.0  150000.0  \n",
       "3                    7.0   60000.0  \n",
       "4                   20.0  200000.0  \n",
       "..                   ...       ...  \n",
       "370                  8.0   85000.0  \n",
       "371                 19.0  170000.0  \n",
       "372                  2.0   40000.0  \n",
       "373                  7.0   90000.0  \n",
       "374                 15.0  150000.0  \n",
       "\n",
       "[375 rows x 6 columns]>"
      ]
     },
     "execution_count": 5,
     "metadata": {},
     "output_type": "execute_result"
    }
   ],
   "source": [
    "data.fillna"
   ]
  },
  {
   "cell_type": "code",
   "execution_count": 6,
   "id": "22722b3e-930c-460b-b4a2-7618f2fa936a",
   "metadata": {},
   "outputs": [
    {
     "name": "stdout",
     "output_type": "stream",
     "text": [
      "     Age Gender Education Level Job Title  Years of Experience  Salary\n",
      "172  NaN    NaN             NaN       NaN                  NaN     NaN\n",
      "260  NaN    NaN             NaN       NaN                  NaN     NaN\n",
      "     Age Gender Education Level Job Title  Years of Experience  Salary\n",
      "172  NaN    NaN             NaN       NaN                  NaN     NaN\n",
      "260  NaN    NaN             NaN       NaN                  NaN     NaN\n",
      "     Age Gender Education Level Job Title  Years of Experience  Salary\n",
      "172  NaN    NaN             NaN       NaN                  NaN     NaN\n",
      "260  NaN    NaN             NaN       NaN                  NaN     NaN\n",
      "     Age Gender Education Level Job Title  Years of Experience  Salary\n",
      "172  NaN    NaN             NaN       NaN                  NaN     NaN\n",
      "260  NaN    NaN             NaN       NaN                  NaN     NaN\n",
      "     Age Gender Education Level Job Title  Years of Experience  Salary\n",
      "172  NaN    NaN             NaN       NaN                  NaN     NaN\n",
      "260  NaN    NaN             NaN       NaN                  NaN     NaN\n",
      "     Age Gender Education Level Job Title  Years of Experience  Salary\n",
      "172  NaN    NaN             NaN       NaN                  NaN     NaN\n",
      "260  NaN    NaN             NaN       NaN                  NaN     NaN\n"
     ]
    }
   ],
   "source": [
    "for i in data.columns:\n",
    "    print(data[data[i].isnull()])\n"
   ]
  },
  {
   "cell_type": "code",
   "execution_count": 7,
   "id": "c4f6be8d-3fe7-44fc-8c84-26e6d7d33c9d",
   "metadata": {},
   "outputs": [
    {
     "data": {
      "text/html": [
       "<div>\n",
       "<style scoped>\n",
       "    .dataframe tbody tr th:only-of-type {\n",
       "        vertical-align: middle;\n",
       "    }\n",
       "\n",
       "    .dataframe tbody tr th {\n",
       "        vertical-align: top;\n",
       "    }\n",
       "\n",
       "    .dataframe thead th {\n",
       "        text-align: right;\n",
       "    }\n",
       "</style>\n",
       "<table border=\"1\" class=\"dataframe\">\n",
       "  <thead>\n",
       "    <tr style=\"text-align: right;\">\n",
       "      <th></th>\n",
       "      <th>Age</th>\n",
       "      <th>Gender</th>\n",
       "      <th>Education Level</th>\n",
       "      <th>Job Title</th>\n",
       "      <th>Years of Experience</th>\n",
       "      <th>Salary</th>\n",
       "    </tr>\n",
       "  </thead>\n",
       "  <tbody>\n",
       "    <tr>\n",
       "      <th>0</th>\n",
       "      <td>32.0</td>\n",
       "      <td>Male</td>\n",
       "      <td>Bachelor's</td>\n",
       "      <td>Software Engineer</td>\n",
       "      <td>5.0</td>\n",
       "      <td>90000.0</td>\n",
       "    </tr>\n",
       "    <tr>\n",
       "      <th>1</th>\n",
       "      <td>28.0</td>\n",
       "      <td>Female</td>\n",
       "      <td>Master's</td>\n",
       "      <td>Data Analyst</td>\n",
       "      <td>3.0</td>\n",
       "      <td>65000.0</td>\n",
       "    </tr>\n",
       "    <tr>\n",
       "      <th>2</th>\n",
       "      <td>45.0</td>\n",
       "      <td>Male</td>\n",
       "      <td>PhD</td>\n",
       "      <td>Senior Manager</td>\n",
       "      <td>15.0</td>\n",
       "      <td>150000.0</td>\n",
       "    </tr>\n",
       "    <tr>\n",
       "      <th>3</th>\n",
       "      <td>36.0</td>\n",
       "      <td>Female</td>\n",
       "      <td>Bachelor's</td>\n",
       "      <td>Sales Associate</td>\n",
       "      <td>7.0</td>\n",
       "      <td>60000.0</td>\n",
       "    </tr>\n",
       "    <tr>\n",
       "      <th>4</th>\n",
       "      <td>52.0</td>\n",
       "      <td>Male</td>\n",
       "      <td>Master's</td>\n",
       "      <td>Director</td>\n",
       "      <td>20.0</td>\n",
       "      <td>200000.0</td>\n",
       "    </tr>\n",
       "    <tr>\n",
       "      <th>...</th>\n",
       "      <td>...</td>\n",
       "      <td>...</td>\n",
       "      <td>...</td>\n",
       "      <td>...</td>\n",
       "      <td>...</td>\n",
       "      <td>...</td>\n",
       "    </tr>\n",
       "    <tr>\n",
       "      <th>370</th>\n",
       "      <td>35.0</td>\n",
       "      <td>Female</td>\n",
       "      <td>Bachelor's</td>\n",
       "      <td>Senior Marketing Analyst</td>\n",
       "      <td>8.0</td>\n",
       "      <td>85000.0</td>\n",
       "    </tr>\n",
       "    <tr>\n",
       "      <th>371</th>\n",
       "      <td>43.0</td>\n",
       "      <td>Male</td>\n",
       "      <td>Master's</td>\n",
       "      <td>Director of Operations</td>\n",
       "      <td>19.0</td>\n",
       "      <td>170000.0</td>\n",
       "    </tr>\n",
       "    <tr>\n",
       "      <th>372</th>\n",
       "      <td>29.0</td>\n",
       "      <td>Female</td>\n",
       "      <td>Bachelor's</td>\n",
       "      <td>Junior Project Manager</td>\n",
       "      <td>2.0</td>\n",
       "      <td>40000.0</td>\n",
       "    </tr>\n",
       "    <tr>\n",
       "      <th>373</th>\n",
       "      <td>34.0</td>\n",
       "      <td>Male</td>\n",
       "      <td>Bachelor's</td>\n",
       "      <td>Senior Operations Coordinator</td>\n",
       "      <td>7.0</td>\n",
       "      <td>90000.0</td>\n",
       "    </tr>\n",
       "    <tr>\n",
       "      <th>374</th>\n",
       "      <td>44.0</td>\n",
       "      <td>Female</td>\n",
       "      <td>PhD</td>\n",
       "      <td>Senior Business Analyst</td>\n",
       "      <td>15.0</td>\n",
       "      <td>150000.0</td>\n",
       "    </tr>\n",
       "  </tbody>\n",
       "</table>\n",
       "<p>375 rows × 6 columns</p>\n",
       "</div>"
      ],
      "text/plain": [
       "      Age  Gender Education Level                      Job Title  \\\n",
       "0    32.0    Male      Bachelor's              Software Engineer   \n",
       "1    28.0  Female        Master's                   Data Analyst   \n",
       "2    45.0    Male             PhD                 Senior Manager   \n",
       "3    36.0  Female      Bachelor's                Sales Associate   \n",
       "4    52.0    Male        Master's                       Director   \n",
       "..    ...     ...             ...                            ...   \n",
       "370  35.0  Female      Bachelor's       Senior Marketing Analyst   \n",
       "371  43.0    Male        Master's         Director of Operations   \n",
       "372  29.0  Female      Bachelor's         Junior Project Manager   \n",
       "373  34.0    Male      Bachelor's  Senior Operations Coordinator   \n",
       "374  44.0  Female             PhD        Senior Business Analyst   \n",
       "\n",
       "     Years of Experience    Salary  \n",
       "0                    5.0   90000.0  \n",
       "1                    3.0   65000.0  \n",
       "2                   15.0  150000.0  \n",
       "3                    7.0   60000.0  \n",
       "4                   20.0  200000.0  \n",
       "..                   ...       ...  \n",
       "370                  8.0   85000.0  \n",
       "371                 19.0  170000.0  \n",
       "372                  2.0   40000.0  \n",
       "373                  7.0   90000.0  \n",
       "374                 15.0  150000.0  \n",
       "\n",
       "[375 rows x 6 columns]"
      ]
     },
     "execution_count": 7,
     "metadata": {},
     "output_type": "execute_result"
    }
   ],
   "source": [
    "data"
   ]
  },
  {
   "cell_type": "code",
   "execution_count": 8,
   "id": "83ce88df-068b-41c4-a8e0-2721511c8d28",
   "metadata": {},
   "outputs": [
    {
     "data": {
      "text/plain": [
       "Age                    NaN\n",
       "Gender                 NaN\n",
       "Education Level        NaN\n",
       "Job Title              NaN\n",
       "Years of Experience    NaN\n",
       "Salary                 NaN\n",
       "Name: 172, dtype: object"
      ]
     },
     "execution_count": 8,
     "metadata": {},
     "output_type": "execute_result"
    }
   ],
   "source": [
    "data.iloc[172]"
   ]
  },
  {
   "cell_type": "code",
   "execution_count": 9,
   "id": "5053799b-bac1-4c20-991d-ed7e80b37457",
   "metadata": {},
   "outputs": [
    {
     "data": {
      "text/plain": [
       "(375, 6)"
      ]
     },
     "execution_count": 9,
     "metadata": {},
     "output_type": "execute_result"
    }
   ],
   "source": [
    "data.shape"
   ]
  },
  {
   "cell_type": "code",
   "execution_count": 10,
   "id": "bb1a0228-4ccb-4905-9ab1-7e8fc272d630",
   "metadata": {},
   "outputs": [],
   "source": [
    "data = data.drop(172)"
   ]
  },
  {
   "cell_type": "code",
   "execution_count": 11,
   "id": "78c2e6e0-7e84-48b6-be57-46fa2c85df70",
   "metadata": {},
   "outputs": [],
   "source": [
    "data = data.drop(260)"
   ]
  },
  {
   "cell_type": "code",
   "execution_count": 12,
   "id": "06ccc049-705d-4e92-ad0f-8c43438f189f",
   "metadata": {},
   "outputs": [
    {
     "data": {
      "text/plain": [
       "(373, 6)"
      ]
     },
     "execution_count": 12,
     "metadata": {},
     "output_type": "execute_result"
    }
   ],
   "source": [
    "data.shape"
   ]
  },
  {
   "cell_type": "code",
   "execution_count": 13,
   "id": "86df5106-74db-46f4-80f2-40ad62716538",
   "metadata": {},
   "outputs": [
    {
     "data": {
      "text/plain": [
       "Age                    0\n",
       "Gender                 0\n",
       "Education Level        0\n",
       "Job Title              0\n",
       "Years of Experience    0\n",
       "Salary                 0\n",
       "dtype: int64"
      ]
     },
     "execution_count": 13,
     "metadata": {},
     "output_type": "execute_result"
    }
   ],
   "source": [
    "data.isnull().sum()"
   ]
  },
  {
   "cell_type": "code",
   "execution_count": 14,
   "id": "7bb63acf-882f-4c81-9337-07a1dcae938f",
   "metadata": {},
   "outputs": [
    {
     "name": "stdout",
     "output_type": "stream",
     "text": [
      "Age\n",
      "31\n",
      "Gender\n",
      "2\n",
      "Education Level\n",
      "3\n",
      "Job Title\n",
      "174\n",
      "Years of Experience\n",
      "28\n",
      "Salary\n",
      "36\n"
     ]
    }
   ],
   "source": [
    "for i in data.columns:\n",
    "    print(i)\n",
    "    print(len(data[i].value_counts()))"
   ]
  },
  {
   "cell_type": "code",
   "execution_count": 15,
   "id": "53278cc3-9d17-4547-aabf-6c64ee725456",
   "metadata": {},
   "outputs": [
    {
     "data": {
      "text/html": [
       "<div>\n",
       "<style scoped>\n",
       "    .dataframe tbody tr th:only-of-type {\n",
       "        vertical-align: middle;\n",
       "    }\n",
       "\n",
       "    .dataframe tbody tr th {\n",
       "        vertical-align: top;\n",
       "    }\n",
       "\n",
       "    .dataframe thead th {\n",
       "        text-align: right;\n",
       "    }\n",
       "</style>\n",
       "<table border=\"1\" class=\"dataframe\">\n",
       "  <thead>\n",
       "    <tr style=\"text-align: right;\">\n",
       "      <th></th>\n",
       "      <th>Age</th>\n",
       "      <th>Years of Experience</th>\n",
       "      <th>Salary</th>\n",
       "    </tr>\n",
       "  </thead>\n",
       "  <tbody>\n",
       "    <tr>\n",
       "      <th>count</th>\n",
       "      <td>373.000000</td>\n",
       "      <td>373.000000</td>\n",
       "      <td>373.000000</td>\n",
       "    </tr>\n",
       "    <tr>\n",
       "      <th>mean</th>\n",
       "      <td>37.431635</td>\n",
       "      <td>10.030831</td>\n",
       "      <td>100577.345845</td>\n",
       "    </tr>\n",
       "    <tr>\n",
       "      <th>std</th>\n",
       "      <td>7.069073</td>\n",
       "      <td>6.557007</td>\n",
       "      <td>48240.013482</td>\n",
       "    </tr>\n",
       "    <tr>\n",
       "      <th>min</th>\n",
       "      <td>23.000000</td>\n",
       "      <td>0.000000</td>\n",
       "      <td>350.000000</td>\n",
       "    </tr>\n",
       "    <tr>\n",
       "      <th>25%</th>\n",
       "      <td>31.000000</td>\n",
       "      <td>4.000000</td>\n",
       "      <td>55000.000000</td>\n",
       "    </tr>\n",
       "    <tr>\n",
       "      <th>50%</th>\n",
       "      <td>36.000000</td>\n",
       "      <td>9.000000</td>\n",
       "      <td>95000.000000</td>\n",
       "    </tr>\n",
       "    <tr>\n",
       "      <th>75%</th>\n",
       "      <td>44.000000</td>\n",
       "      <td>15.000000</td>\n",
       "      <td>140000.000000</td>\n",
       "    </tr>\n",
       "    <tr>\n",
       "      <th>max</th>\n",
       "      <td>53.000000</td>\n",
       "      <td>25.000000</td>\n",
       "      <td>250000.000000</td>\n",
       "    </tr>\n",
       "  </tbody>\n",
       "</table>\n",
       "</div>"
      ],
      "text/plain": [
       "              Age  Years of Experience         Salary\n",
       "count  373.000000           373.000000     373.000000\n",
       "mean    37.431635            10.030831  100577.345845\n",
       "std      7.069073             6.557007   48240.013482\n",
       "min     23.000000             0.000000     350.000000\n",
       "25%     31.000000             4.000000   55000.000000\n",
       "50%     36.000000             9.000000   95000.000000\n",
       "75%     44.000000            15.000000  140000.000000\n",
       "max     53.000000            25.000000  250000.000000"
      ]
     },
     "execution_count": 15,
     "metadata": {},
     "output_type": "execute_result"
    }
   ],
   "source": [
    "data.describe()\n"
   ]
  },
  {
   "cell_type": "code",
   "execution_count": 16,
   "id": "2ec7c4cd-be26-4dfc-b18e-6ac63f74b231",
   "metadata": {},
   "outputs": [
    {
     "data": {
      "text/plain": [
       "49"
      ]
     },
     "execution_count": 16,
     "metadata": {},
     "output_type": "execute_result"
    }
   ],
   "source": [
    "data.duplicated().sum()"
   ]
  },
  {
   "cell_type": "code",
   "execution_count": 17,
   "id": "5d05e3dd-6159-4c3d-98ee-a74a1b74e872",
   "metadata": {},
   "outputs": [
    {
     "data": {
      "text/html": [
       "<div>\n",
       "<style scoped>\n",
       "    .dataframe tbody tr th:only-of-type {\n",
       "        vertical-align: middle;\n",
       "    }\n",
       "\n",
       "    .dataframe tbody tr th {\n",
       "        vertical-align: top;\n",
       "    }\n",
       "\n",
       "    .dataframe thead th {\n",
       "        text-align: right;\n",
       "    }\n",
       "</style>\n",
       "<table border=\"1\" class=\"dataframe\">\n",
       "  <thead>\n",
       "    <tr style=\"text-align: right;\">\n",
       "      <th></th>\n",
       "      <th>Age</th>\n",
       "      <th>Gender</th>\n",
       "      <th>Education Level</th>\n",
       "      <th>Job Title</th>\n",
       "      <th>Years of Experience</th>\n",
       "      <th>Salary</th>\n",
       "    </tr>\n",
       "  </thead>\n",
       "  <tbody>\n",
       "    <tr>\n",
       "      <th>0</th>\n",
       "      <td>32.0</td>\n",
       "      <td>Male</td>\n",
       "      <td>Bachelor's</td>\n",
       "      <td>Software Engineer</td>\n",
       "      <td>5.0</td>\n",
       "      <td>90000.0</td>\n",
       "    </tr>\n",
       "    <tr>\n",
       "      <th>1</th>\n",
       "      <td>28.0</td>\n",
       "      <td>Female</td>\n",
       "      <td>Master's</td>\n",
       "      <td>Data Analyst</td>\n",
       "      <td>3.0</td>\n",
       "      <td>65000.0</td>\n",
       "    </tr>\n",
       "    <tr>\n",
       "      <th>2</th>\n",
       "      <td>45.0</td>\n",
       "      <td>Male</td>\n",
       "      <td>PhD</td>\n",
       "      <td>Senior Manager</td>\n",
       "      <td>15.0</td>\n",
       "      <td>150000.0</td>\n",
       "    </tr>\n",
       "    <tr>\n",
       "      <th>3</th>\n",
       "      <td>36.0</td>\n",
       "      <td>Female</td>\n",
       "      <td>Bachelor's</td>\n",
       "      <td>Sales Associate</td>\n",
       "      <td>7.0</td>\n",
       "      <td>60000.0</td>\n",
       "    </tr>\n",
       "    <tr>\n",
       "      <th>4</th>\n",
       "      <td>52.0</td>\n",
       "      <td>Male</td>\n",
       "      <td>Master's</td>\n",
       "      <td>Director</td>\n",
       "      <td>20.0</td>\n",
       "      <td>200000.0</td>\n",
       "    </tr>\n",
       "    <tr>\n",
       "      <th>...</th>\n",
       "      <td>...</td>\n",
       "      <td>...</td>\n",
       "      <td>...</td>\n",
       "      <td>...</td>\n",
       "      <td>...</td>\n",
       "      <td>...</td>\n",
       "    </tr>\n",
       "    <tr>\n",
       "      <th>370</th>\n",
       "      <td>35.0</td>\n",
       "      <td>Female</td>\n",
       "      <td>Bachelor's</td>\n",
       "      <td>Senior Marketing Analyst</td>\n",
       "      <td>8.0</td>\n",
       "      <td>85000.0</td>\n",
       "    </tr>\n",
       "    <tr>\n",
       "      <th>371</th>\n",
       "      <td>43.0</td>\n",
       "      <td>Male</td>\n",
       "      <td>Master's</td>\n",
       "      <td>Director of Operations</td>\n",
       "      <td>19.0</td>\n",
       "      <td>170000.0</td>\n",
       "    </tr>\n",
       "    <tr>\n",
       "      <th>372</th>\n",
       "      <td>29.0</td>\n",
       "      <td>Female</td>\n",
       "      <td>Bachelor's</td>\n",
       "      <td>Junior Project Manager</td>\n",
       "      <td>2.0</td>\n",
       "      <td>40000.0</td>\n",
       "    </tr>\n",
       "    <tr>\n",
       "      <th>373</th>\n",
       "      <td>34.0</td>\n",
       "      <td>Male</td>\n",
       "      <td>Bachelor's</td>\n",
       "      <td>Senior Operations Coordinator</td>\n",
       "      <td>7.0</td>\n",
       "      <td>90000.0</td>\n",
       "    </tr>\n",
       "    <tr>\n",
       "      <th>374</th>\n",
       "      <td>44.0</td>\n",
       "      <td>Female</td>\n",
       "      <td>PhD</td>\n",
       "      <td>Senior Business Analyst</td>\n",
       "      <td>15.0</td>\n",
       "      <td>150000.0</td>\n",
       "    </tr>\n",
       "  </tbody>\n",
       "</table>\n",
       "<p>373 rows × 6 columns</p>\n",
       "</div>"
      ],
      "text/plain": [
       "      Age  Gender Education Level                      Job Title  \\\n",
       "0    32.0    Male      Bachelor's              Software Engineer   \n",
       "1    28.0  Female        Master's                   Data Analyst   \n",
       "2    45.0    Male             PhD                 Senior Manager   \n",
       "3    36.0  Female      Bachelor's                Sales Associate   \n",
       "4    52.0    Male        Master's                       Director   \n",
       "..    ...     ...             ...                            ...   \n",
       "370  35.0  Female      Bachelor's       Senior Marketing Analyst   \n",
       "371  43.0    Male        Master's         Director of Operations   \n",
       "372  29.0  Female      Bachelor's         Junior Project Manager   \n",
       "373  34.0    Male      Bachelor's  Senior Operations Coordinator   \n",
       "374  44.0  Female             PhD        Senior Business Analyst   \n",
       "\n",
       "     Years of Experience    Salary  \n",
       "0                    5.0   90000.0  \n",
       "1                    3.0   65000.0  \n",
       "2                   15.0  150000.0  \n",
       "3                    7.0   60000.0  \n",
       "4                   20.0  200000.0  \n",
       "..                   ...       ...  \n",
       "370                  8.0   85000.0  \n",
       "371                 19.0  170000.0  \n",
       "372                  2.0   40000.0  \n",
       "373                  7.0   90000.0  \n",
       "374                 15.0  150000.0  \n",
       "\n",
       "[373 rows x 6 columns]"
      ]
     },
     "execution_count": 17,
     "metadata": {},
     "output_type": "execute_result"
    }
   ],
   "source": [
    "data"
   ]
  },
  {
   "cell_type": "code",
   "execution_count": 18,
   "id": "7daf0cbf-6b31-434a-b8fd-7a3d2d0c42d3",
   "metadata": {},
   "outputs": [],
   "source": [
    "data.drop_duplicates(inplace = True)"
   ]
  },
  {
   "cell_type": "code",
   "execution_count": 19,
   "id": "ef7b55e0-38a0-4b0b-8610-f78c42875553",
   "metadata": {},
   "outputs": [
    {
     "data": {
      "text/html": [
       "<div>\n",
       "<style scoped>\n",
       "    .dataframe tbody tr th:only-of-type {\n",
       "        vertical-align: middle;\n",
       "    }\n",
       "\n",
       "    .dataframe tbody tr th {\n",
       "        vertical-align: top;\n",
       "    }\n",
       "\n",
       "    .dataframe thead th {\n",
       "        text-align: right;\n",
       "    }\n",
       "</style>\n",
       "<table border=\"1\" class=\"dataframe\">\n",
       "  <thead>\n",
       "    <tr style=\"text-align: right;\">\n",
       "      <th></th>\n",
       "      <th>Age</th>\n",
       "      <th>Gender</th>\n",
       "      <th>Education Level</th>\n",
       "      <th>Job Title</th>\n",
       "      <th>Years of Experience</th>\n",
       "      <th>Salary</th>\n",
       "    </tr>\n",
       "  </thead>\n",
       "  <tbody>\n",
       "    <tr>\n",
       "      <th>0</th>\n",
       "      <td>32.0</td>\n",
       "      <td>Male</td>\n",
       "      <td>Bachelor's</td>\n",
       "      <td>Software Engineer</td>\n",
       "      <td>5.0</td>\n",
       "      <td>90000.0</td>\n",
       "    </tr>\n",
       "    <tr>\n",
       "      <th>1</th>\n",
       "      <td>28.0</td>\n",
       "      <td>Female</td>\n",
       "      <td>Master's</td>\n",
       "      <td>Data Analyst</td>\n",
       "      <td>3.0</td>\n",
       "      <td>65000.0</td>\n",
       "    </tr>\n",
       "    <tr>\n",
       "      <th>2</th>\n",
       "      <td>45.0</td>\n",
       "      <td>Male</td>\n",
       "      <td>PhD</td>\n",
       "      <td>Senior Manager</td>\n",
       "      <td>15.0</td>\n",
       "      <td>150000.0</td>\n",
       "    </tr>\n",
       "    <tr>\n",
       "      <th>3</th>\n",
       "      <td>36.0</td>\n",
       "      <td>Female</td>\n",
       "      <td>Bachelor's</td>\n",
       "      <td>Sales Associate</td>\n",
       "      <td>7.0</td>\n",
       "      <td>60000.0</td>\n",
       "    </tr>\n",
       "    <tr>\n",
       "      <th>4</th>\n",
       "      <td>52.0</td>\n",
       "      <td>Male</td>\n",
       "      <td>Master's</td>\n",
       "      <td>Director</td>\n",
       "      <td>20.0</td>\n",
       "      <td>200000.0</td>\n",
       "    </tr>\n",
       "    <tr>\n",
       "      <th>...</th>\n",
       "      <td>...</td>\n",
       "      <td>...</td>\n",
       "      <td>...</td>\n",
       "      <td>...</td>\n",
       "      <td>...</td>\n",
       "      <td>...</td>\n",
       "    </tr>\n",
       "    <tr>\n",
       "      <th>348</th>\n",
       "      <td>28.0</td>\n",
       "      <td>Female</td>\n",
       "      <td>Bachelor's</td>\n",
       "      <td>Junior Operations Manager</td>\n",
       "      <td>1.0</td>\n",
       "      <td>35000.0</td>\n",
       "    </tr>\n",
       "    <tr>\n",
       "      <th>349</th>\n",
       "      <td>36.0</td>\n",
       "      <td>Male</td>\n",
       "      <td>Bachelor's</td>\n",
       "      <td>Senior Business Development Manager</td>\n",
       "      <td>8.0</td>\n",
       "      <td>110000.0</td>\n",
       "    </tr>\n",
       "    <tr>\n",
       "      <th>350</th>\n",
       "      <td>44.0</td>\n",
       "      <td>Female</td>\n",
       "      <td>PhD</td>\n",
       "      <td>Senior Data Scientist</td>\n",
       "      <td>16.0</td>\n",
       "      <td>160000.0</td>\n",
       "    </tr>\n",
       "    <tr>\n",
       "      <th>351</th>\n",
       "      <td>31.0</td>\n",
       "      <td>Male</td>\n",
       "      <td>Bachelor's</td>\n",
       "      <td>Junior Marketing Coordinator</td>\n",
       "      <td>3.0</td>\n",
       "      <td>55000.0</td>\n",
       "    </tr>\n",
       "    <tr>\n",
       "      <th>371</th>\n",
       "      <td>43.0</td>\n",
       "      <td>Male</td>\n",
       "      <td>Master's</td>\n",
       "      <td>Director of Operations</td>\n",
       "      <td>19.0</td>\n",
       "      <td>170000.0</td>\n",
       "    </tr>\n",
       "  </tbody>\n",
       "</table>\n",
       "<p>324 rows × 6 columns</p>\n",
       "</div>"
      ],
      "text/plain": [
       "      Age  Gender Education Level                            Job Title  \\\n",
       "0    32.0    Male      Bachelor's                    Software Engineer   \n",
       "1    28.0  Female        Master's                         Data Analyst   \n",
       "2    45.0    Male             PhD                       Senior Manager   \n",
       "3    36.0  Female      Bachelor's                      Sales Associate   \n",
       "4    52.0    Male        Master's                             Director   \n",
       "..    ...     ...             ...                                  ...   \n",
       "348  28.0  Female      Bachelor's            Junior Operations Manager   \n",
       "349  36.0    Male      Bachelor's  Senior Business Development Manager   \n",
       "350  44.0  Female             PhD                Senior Data Scientist   \n",
       "351  31.0    Male      Bachelor's         Junior Marketing Coordinator   \n",
       "371  43.0    Male        Master's               Director of Operations   \n",
       "\n",
       "     Years of Experience    Salary  \n",
       "0                    5.0   90000.0  \n",
       "1                    3.0   65000.0  \n",
       "2                   15.0  150000.0  \n",
       "3                    7.0   60000.0  \n",
       "4                   20.0  200000.0  \n",
       "..                   ...       ...  \n",
       "348                  1.0   35000.0  \n",
       "349                  8.0  110000.0  \n",
       "350                 16.0  160000.0  \n",
       "351                  3.0   55000.0  \n",
       "371                 19.0  170000.0  \n",
       "\n",
       "[324 rows x 6 columns]"
      ]
     },
     "execution_count": 19,
     "metadata": {},
     "output_type": "execute_result"
    }
   ],
   "source": [
    "data"
   ]
  },
  {
   "cell_type": "code",
   "execution_count": 20,
   "id": "3a350bc7-7599-4d28-8b66-5337484b85e5",
   "metadata": {},
   "outputs": [
    {
     "data": {
      "text/plain": [
       "(324, 6)"
      ]
     },
     "execution_count": 20,
     "metadata": {},
     "output_type": "execute_result"
    }
   ],
   "source": [
    "data.shape"
   ]
  },
  {
   "cell_type": "code",
   "execution_count": 21,
   "id": "c649d99d-2e17-42c3-ba77-18d47210f13b",
   "metadata": {},
   "outputs": [],
   "source": [
    "data.reset_index(inplace=True)"
   ]
  },
  {
   "cell_type": "code",
   "execution_count": 22,
   "id": "cb27595f-279c-46bf-8b2a-45fb5889427c",
   "metadata": {},
   "outputs": [
    {
     "data": {
      "text/html": [
       "<div>\n",
       "<style scoped>\n",
       "    .dataframe tbody tr th:only-of-type {\n",
       "        vertical-align: middle;\n",
       "    }\n",
       "\n",
       "    .dataframe tbody tr th {\n",
       "        vertical-align: top;\n",
       "    }\n",
       "\n",
       "    .dataframe thead th {\n",
       "        text-align: right;\n",
       "    }\n",
       "</style>\n",
       "<table border=\"1\" class=\"dataframe\">\n",
       "  <thead>\n",
       "    <tr style=\"text-align: right;\">\n",
       "      <th></th>\n",
       "      <th>index</th>\n",
       "      <th>Age</th>\n",
       "      <th>Gender</th>\n",
       "      <th>Education Level</th>\n",
       "      <th>Job Title</th>\n",
       "      <th>Years of Experience</th>\n",
       "      <th>Salary</th>\n",
       "    </tr>\n",
       "  </thead>\n",
       "  <tbody>\n",
       "    <tr>\n",
       "      <th>0</th>\n",
       "      <td>0</td>\n",
       "      <td>32.0</td>\n",
       "      <td>Male</td>\n",
       "      <td>Bachelor's</td>\n",
       "      <td>Software Engineer</td>\n",
       "      <td>5.0</td>\n",
       "      <td>90000.0</td>\n",
       "    </tr>\n",
       "    <tr>\n",
       "      <th>1</th>\n",
       "      <td>1</td>\n",
       "      <td>28.0</td>\n",
       "      <td>Female</td>\n",
       "      <td>Master's</td>\n",
       "      <td>Data Analyst</td>\n",
       "      <td>3.0</td>\n",
       "      <td>65000.0</td>\n",
       "    </tr>\n",
       "    <tr>\n",
       "      <th>2</th>\n",
       "      <td>2</td>\n",
       "      <td>45.0</td>\n",
       "      <td>Male</td>\n",
       "      <td>PhD</td>\n",
       "      <td>Senior Manager</td>\n",
       "      <td>15.0</td>\n",
       "      <td>150000.0</td>\n",
       "    </tr>\n",
       "    <tr>\n",
       "      <th>3</th>\n",
       "      <td>3</td>\n",
       "      <td>36.0</td>\n",
       "      <td>Female</td>\n",
       "      <td>Bachelor's</td>\n",
       "      <td>Sales Associate</td>\n",
       "      <td>7.0</td>\n",
       "      <td>60000.0</td>\n",
       "    </tr>\n",
       "    <tr>\n",
       "      <th>4</th>\n",
       "      <td>4</td>\n",
       "      <td>52.0</td>\n",
       "      <td>Male</td>\n",
       "      <td>Master's</td>\n",
       "      <td>Director</td>\n",
       "      <td>20.0</td>\n",
       "      <td>200000.0</td>\n",
       "    </tr>\n",
       "    <tr>\n",
       "      <th>...</th>\n",
       "      <td>...</td>\n",
       "      <td>...</td>\n",
       "      <td>...</td>\n",
       "      <td>...</td>\n",
       "      <td>...</td>\n",
       "      <td>...</td>\n",
       "      <td>...</td>\n",
       "    </tr>\n",
       "    <tr>\n",
       "      <th>319</th>\n",
       "      <td>348</td>\n",
       "      <td>28.0</td>\n",
       "      <td>Female</td>\n",
       "      <td>Bachelor's</td>\n",
       "      <td>Junior Operations Manager</td>\n",
       "      <td>1.0</td>\n",
       "      <td>35000.0</td>\n",
       "    </tr>\n",
       "    <tr>\n",
       "      <th>320</th>\n",
       "      <td>349</td>\n",
       "      <td>36.0</td>\n",
       "      <td>Male</td>\n",
       "      <td>Bachelor's</td>\n",
       "      <td>Senior Business Development Manager</td>\n",
       "      <td>8.0</td>\n",
       "      <td>110000.0</td>\n",
       "    </tr>\n",
       "    <tr>\n",
       "      <th>321</th>\n",
       "      <td>350</td>\n",
       "      <td>44.0</td>\n",
       "      <td>Female</td>\n",
       "      <td>PhD</td>\n",
       "      <td>Senior Data Scientist</td>\n",
       "      <td>16.0</td>\n",
       "      <td>160000.0</td>\n",
       "    </tr>\n",
       "    <tr>\n",
       "      <th>322</th>\n",
       "      <td>351</td>\n",
       "      <td>31.0</td>\n",
       "      <td>Male</td>\n",
       "      <td>Bachelor's</td>\n",
       "      <td>Junior Marketing Coordinator</td>\n",
       "      <td>3.0</td>\n",
       "      <td>55000.0</td>\n",
       "    </tr>\n",
       "    <tr>\n",
       "      <th>323</th>\n",
       "      <td>371</td>\n",
       "      <td>43.0</td>\n",
       "      <td>Male</td>\n",
       "      <td>Master's</td>\n",
       "      <td>Director of Operations</td>\n",
       "      <td>19.0</td>\n",
       "      <td>170000.0</td>\n",
       "    </tr>\n",
       "  </tbody>\n",
       "</table>\n",
       "<p>324 rows × 7 columns</p>\n",
       "</div>"
      ],
      "text/plain": [
       "     index   Age  Gender Education Level                            Job Title  \\\n",
       "0        0  32.0    Male      Bachelor's                    Software Engineer   \n",
       "1        1  28.0  Female        Master's                         Data Analyst   \n",
       "2        2  45.0    Male             PhD                       Senior Manager   \n",
       "3        3  36.0  Female      Bachelor's                      Sales Associate   \n",
       "4        4  52.0    Male        Master's                             Director   \n",
       "..     ...   ...     ...             ...                                  ...   \n",
       "319    348  28.0  Female      Bachelor's            Junior Operations Manager   \n",
       "320    349  36.0    Male      Bachelor's  Senior Business Development Manager   \n",
       "321    350  44.0  Female             PhD                Senior Data Scientist   \n",
       "322    351  31.0    Male      Bachelor's         Junior Marketing Coordinator   \n",
       "323    371  43.0    Male        Master's               Director of Operations   \n",
       "\n",
       "     Years of Experience    Salary  \n",
       "0                    5.0   90000.0  \n",
       "1                    3.0   65000.0  \n",
       "2                   15.0  150000.0  \n",
       "3                    7.0   60000.0  \n",
       "4                   20.0  200000.0  \n",
       "..                   ...       ...  \n",
       "319                  1.0   35000.0  \n",
       "320                  8.0  110000.0  \n",
       "321                 16.0  160000.0  \n",
       "322                  3.0   55000.0  \n",
       "323                 19.0  170000.0  \n",
       "\n",
       "[324 rows x 7 columns]"
      ]
     },
     "execution_count": 22,
     "metadata": {},
     "output_type": "execute_result"
    }
   ],
   "source": [
    "data"
   ]
  },
  {
   "cell_type": "code",
   "execution_count": 23,
   "id": "d7e68a21-c1ea-437d-b909-912aaf1fff9d",
   "metadata": {},
   "outputs": [],
   "source": [
    "data = data.iloc[:,1:]"
   ]
  },
  {
   "cell_type": "code",
   "execution_count": 24,
   "id": "173246fd-4684-4955-ae32-02445d9393f0",
   "metadata": {},
   "outputs": [
    {
     "data": {
      "text/html": [
       "<div>\n",
       "<style scoped>\n",
       "    .dataframe tbody tr th:only-of-type {\n",
       "        vertical-align: middle;\n",
       "    }\n",
       "\n",
       "    .dataframe tbody tr th {\n",
       "        vertical-align: top;\n",
       "    }\n",
       "\n",
       "    .dataframe thead th {\n",
       "        text-align: right;\n",
       "    }\n",
       "</style>\n",
       "<table border=\"1\" class=\"dataframe\">\n",
       "  <thead>\n",
       "    <tr style=\"text-align: right;\">\n",
       "      <th></th>\n",
       "      <th>Age</th>\n",
       "      <th>Gender</th>\n",
       "      <th>Education Level</th>\n",
       "      <th>Job Title</th>\n",
       "      <th>Years of Experience</th>\n",
       "      <th>Salary</th>\n",
       "    </tr>\n",
       "  </thead>\n",
       "  <tbody>\n",
       "    <tr>\n",
       "      <th>0</th>\n",
       "      <td>32.0</td>\n",
       "      <td>Male</td>\n",
       "      <td>Bachelor's</td>\n",
       "      <td>Software Engineer</td>\n",
       "      <td>5.0</td>\n",
       "      <td>90000.0</td>\n",
       "    </tr>\n",
       "    <tr>\n",
       "      <th>1</th>\n",
       "      <td>28.0</td>\n",
       "      <td>Female</td>\n",
       "      <td>Master's</td>\n",
       "      <td>Data Analyst</td>\n",
       "      <td>3.0</td>\n",
       "      <td>65000.0</td>\n",
       "    </tr>\n",
       "    <tr>\n",
       "      <th>2</th>\n",
       "      <td>45.0</td>\n",
       "      <td>Male</td>\n",
       "      <td>PhD</td>\n",
       "      <td>Senior Manager</td>\n",
       "      <td>15.0</td>\n",
       "      <td>150000.0</td>\n",
       "    </tr>\n",
       "    <tr>\n",
       "      <th>3</th>\n",
       "      <td>36.0</td>\n",
       "      <td>Female</td>\n",
       "      <td>Bachelor's</td>\n",
       "      <td>Sales Associate</td>\n",
       "      <td>7.0</td>\n",
       "      <td>60000.0</td>\n",
       "    </tr>\n",
       "    <tr>\n",
       "      <th>4</th>\n",
       "      <td>52.0</td>\n",
       "      <td>Male</td>\n",
       "      <td>Master's</td>\n",
       "      <td>Director</td>\n",
       "      <td>20.0</td>\n",
       "      <td>200000.0</td>\n",
       "    </tr>\n",
       "    <tr>\n",
       "      <th>...</th>\n",
       "      <td>...</td>\n",
       "      <td>...</td>\n",
       "      <td>...</td>\n",
       "      <td>...</td>\n",
       "      <td>...</td>\n",
       "      <td>...</td>\n",
       "    </tr>\n",
       "    <tr>\n",
       "      <th>319</th>\n",
       "      <td>28.0</td>\n",
       "      <td>Female</td>\n",
       "      <td>Bachelor's</td>\n",
       "      <td>Junior Operations Manager</td>\n",
       "      <td>1.0</td>\n",
       "      <td>35000.0</td>\n",
       "    </tr>\n",
       "    <tr>\n",
       "      <th>320</th>\n",
       "      <td>36.0</td>\n",
       "      <td>Male</td>\n",
       "      <td>Bachelor's</td>\n",
       "      <td>Senior Business Development Manager</td>\n",
       "      <td>8.0</td>\n",
       "      <td>110000.0</td>\n",
       "    </tr>\n",
       "    <tr>\n",
       "      <th>321</th>\n",
       "      <td>44.0</td>\n",
       "      <td>Female</td>\n",
       "      <td>PhD</td>\n",
       "      <td>Senior Data Scientist</td>\n",
       "      <td>16.0</td>\n",
       "      <td>160000.0</td>\n",
       "    </tr>\n",
       "    <tr>\n",
       "      <th>322</th>\n",
       "      <td>31.0</td>\n",
       "      <td>Male</td>\n",
       "      <td>Bachelor's</td>\n",
       "      <td>Junior Marketing Coordinator</td>\n",
       "      <td>3.0</td>\n",
       "      <td>55000.0</td>\n",
       "    </tr>\n",
       "    <tr>\n",
       "      <th>323</th>\n",
       "      <td>43.0</td>\n",
       "      <td>Male</td>\n",
       "      <td>Master's</td>\n",
       "      <td>Director of Operations</td>\n",
       "      <td>19.0</td>\n",
       "      <td>170000.0</td>\n",
       "    </tr>\n",
       "  </tbody>\n",
       "</table>\n",
       "<p>324 rows × 6 columns</p>\n",
       "</div>"
      ],
      "text/plain": [
       "      Age  Gender Education Level                            Job Title  \\\n",
       "0    32.0    Male      Bachelor's                    Software Engineer   \n",
       "1    28.0  Female        Master's                         Data Analyst   \n",
       "2    45.0    Male             PhD                       Senior Manager   \n",
       "3    36.0  Female      Bachelor's                      Sales Associate   \n",
       "4    52.0    Male        Master's                             Director   \n",
       "..    ...     ...             ...                                  ...   \n",
       "319  28.0  Female      Bachelor's            Junior Operations Manager   \n",
       "320  36.0    Male      Bachelor's  Senior Business Development Manager   \n",
       "321  44.0  Female             PhD                Senior Data Scientist   \n",
       "322  31.0    Male      Bachelor's         Junior Marketing Coordinator   \n",
       "323  43.0    Male        Master's               Director of Operations   \n",
       "\n",
       "     Years of Experience    Salary  \n",
       "0                    5.0   90000.0  \n",
       "1                    3.0   65000.0  \n",
       "2                   15.0  150000.0  \n",
       "3                    7.0   60000.0  \n",
       "4                   20.0  200000.0  \n",
       "..                   ...       ...  \n",
       "319                  1.0   35000.0  \n",
       "320                  8.0  110000.0  \n",
       "321                 16.0  160000.0  \n",
       "322                  3.0   55000.0  \n",
       "323                 19.0  170000.0  \n",
       "\n",
       "[324 rows x 6 columns]"
      ]
     },
     "execution_count": 24,
     "metadata": {},
     "output_type": "execute_result"
    }
   ],
   "source": [
    "data"
   ]
  },
  {
   "cell_type": "code",
   "execution_count": 25,
   "id": "fe84b2fe-42c2-46b0-8588-7ff9af294212",
   "metadata": {},
   "outputs": [
    {
     "data": {
      "text/html": [
       "<div>\n",
       "<style scoped>\n",
       "    .dataframe tbody tr th:only-of-type {\n",
       "        vertical-align: middle;\n",
       "    }\n",
       "\n",
       "    .dataframe tbody tr th {\n",
       "        vertical-align: top;\n",
       "    }\n",
       "\n",
       "    .dataframe thead th {\n",
       "        text-align: right;\n",
       "    }\n",
       "</style>\n",
       "<table border=\"1\" class=\"dataframe\">\n",
       "  <thead>\n",
       "    <tr style=\"text-align: right;\">\n",
       "      <th></th>\n",
       "      <th>Age</th>\n",
       "      <th>Gender</th>\n",
       "      <th>Education Level</th>\n",
       "      <th>Job Title</th>\n",
       "      <th>Years of Experience</th>\n",
       "      <th>Salary</th>\n",
       "    </tr>\n",
       "  </thead>\n",
       "  <tbody>\n",
       "    <tr>\n",
       "      <th>248</th>\n",
       "      <td>29.0</td>\n",
       "      <td>Male</td>\n",
       "      <td>Bachelor's</td>\n",
       "      <td>Junior Business Operations Analyst</td>\n",
       "      <td>1.5</td>\n",
       "      <td>350.0</td>\n",
       "    </tr>\n",
       "  </tbody>\n",
       "</table>\n",
       "</div>"
      ],
      "text/plain": [
       "      Age Gender Education Level                           Job Title  \\\n",
       "248  29.0   Male      Bachelor's  Junior Business Operations Analyst   \n",
       "\n",
       "     Years of Experience  Salary  \n",
       "248                  1.5   350.0  "
      ]
     },
     "execution_count": 25,
     "metadata": {},
     "output_type": "execute_result"
    }
   ],
   "source": [
    "data.loc[data['Salary'] < 1000] "
   ]
  },
  {
   "cell_type": "code",
   "execution_count": 26,
   "id": "2d35d421-64be-4add-b3f4-0fba0e2c0ffd",
   "metadata": {},
   "outputs": [],
   "source": [
    "data = data.drop(248)\n"
   ]
  },
  {
   "cell_type": "code",
   "execution_count": 27,
   "id": "9c2b67e4-7967-4acd-8a26-17dc541e15bc",
   "metadata": {},
   "outputs": [],
   "source": [
    "data.reset_index(inplace=True)"
   ]
  },
  {
   "cell_type": "code",
   "execution_count": 28,
   "id": "9d5dfe77-2ae1-482e-a3f9-0401c1b23470",
   "metadata": {},
   "outputs": [],
   "source": [
    "data = data.iloc[:,1:]"
   ]
  },
  {
   "cell_type": "code",
   "execution_count": 29,
   "id": "431e9789-046e-4026-86f2-b03ae77d04d3",
   "metadata": {},
   "outputs": [
    {
     "data": {
      "text/html": [
       "<div>\n",
       "<style scoped>\n",
       "    .dataframe tbody tr th:only-of-type {\n",
       "        vertical-align: middle;\n",
       "    }\n",
       "\n",
       "    .dataframe tbody tr th {\n",
       "        vertical-align: top;\n",
       "    }\n",
       "\n",
       "    .dataframe thead th {\n",
       "        text-align: right;\n",
       "    }\n",
       "</style>\n",
       "<table border=\"1\" class=\"dataframe\">\n",
       "  <thead>\n",
       "    <tr style=\"text-align: right;\">\n",
       "      <th></th>\n",
       "      <th>Age</th>\n",
       "      <th>Gender</th>\n",
       "      <th>Education Level</th>\n",
       "      <th>Job Title</th>\n",
       "      <th>Years of Experience</th>\n",
       "      <th>Salary</th>\n",
       "    </tr>\n",
       "  </thead>\n",
       "  <tbody>\n",
       "    <tr>\n",
       "      <th>0</th>\n",
       "      <td>32.0</td>\n",
       "      <td>Male</td>\n",
       "      <td>Bachelor's</td>\n",
       "      <td>Software Engineer</td>\n",
       "      <td>5.0</td>\n",
       "      <td>90000.0</td>\n",
       "    </tr>\n",
       "    <tr>\n",
       "      <th>1</th>\n",
       "      <td>28.0</td>\n",
       "      <td>Female</td>\n",
       "      <td>Master's</td>\n",
       "      <td>Data Analyst</td>\n",
       "      <td>3.0</td>\n",
       "      <td>65000.0</td>\n",
       "    </tr>\n",
       "    <tr>\n",
       "      <th>2</th>\n",
       "      <td>45.0</td>\n",
       "      <td>Male</td>\n",
       "      <td>PhD</td>\n",
       "      <td>Senior Manager</td>\n",
       "      <td>15.0</td>\n",
       "      <td>150000.0</td>\n",
       "    </tr>\n",
       "    <tr>\n",
       "      <th>3</th>\n",
       "      <td>36.0</td>\n",
       "      <td>Female</td>\n",
       "      <td>Bachelor's</td>\n",
       "      <td>Sales Associate</td>\n",
       "      <td>7.0</td>\n",
       "      <td>60000.0</td>\n",
       "    </tr>\n",
       "    <tr>\n",
       "      <th>4</th>\n",
       "      <td>52.0</td>\n",
       "      <td>Male</td>\n",
       "      <td>Master's</td>\n",
       "      <td>Director</td>\n",
       "      <td>20.0</td>\n",
       "      <td>200000.0</td>\n",
       "    </tr>\n",
       "    <tr>\n",
       "      <th>...</th>\n",
       "      <td>...</td>\n",
       "      <td>...</td>\n",
       "      <td>...</td>\n",
       "      <td>...</td>\n",
       "      <td>...</td>\n",
       "      <td>...</td>\n",
       "    </tr>\n",
       "    <tr>\n",
       "      <th>318</th>\n",
       "      <td>28.0</td>\n",
       "      <td>Female</td>\n",
       "      <td>Bachelor's</td>\n",
       "      <td>Junior Operations Manager</td>\n",
       "      <td>1.0</td>\n",
       "      <td>35000.0</td>\n",
       "    </tr>\n",
       "    <tr>\n",
       "      <th>319</th>\n",
       "      <td>36.0</td>\n",
       "      <td>Male</td>\n",
       "      <td>Bachelor's</td>\n",
       "      <td>Senior Business Development Manager</td>\n",
       "      <td>8.0</td>\n",
       "      <td>110000.0</td>\n",
       "    </tr>\n",
       "    <tr>\n",
       "      <th>320</th>\n",
       "      <td>44.0</td>\n",
       "      <td>Female</td>\n",
       "      <td>PhD</td>\n",
       "      <td>Senior Data Scientist</td>\n",
       "      <td>16.0</td>\n",
       "      <td>160000.0</td>\n",
       "    </tr>\n",
       "    <tr>\n",
       "      <th>321</th>\n",
       "      <td>31.0</td>\n",
       "      <td>Male</td>\n",
       "      <td>Bachelor's</td>\n",
       "      <td>Junior Marketing Coordinator</td>\n",
       "      <td>3.0</td>\n",
       "      <td>55000.0</td>\n",
       "    </tr>\n",
       "    <tr>\n",
       "      <th>322</th>\n",
       "      <td>43.0</td>\n",
       "      <td>Male</td>\n",
       "      <td>Master's</td>\n",
       "      <td>Director of Operations</td>\n",
       "      <td>19.0</td>\n",
       "      <td>170000.0</td>\n",
       "    </tr>\n",
       "  </tbody>\n",
       "</table>\n",
       "<p>323 rows × 6 columns</p>\n",
       "</div>"
      ],
      "text/plain": [
       "      Age  Gender Education Level                            Job Title  \\\n",
       "0    32.0    Male      Bachelor's                    Software Engineer   \n",
       "1    28.0  Female        Master's                         Data Analyst   \n",
       "2    45.0    Male             PhD                       Senior Manager   \n",
       "3    36.0  Female      Bachelor's                      Sales Associate   \n",
       "4    52.0    Male        Master's                             Director   \n",
       "..    ...     ...             ...                                  ...   \n",
       "318  28.0  Female      Bachelor's            Junior Operations Manager   \n",
       "319  36.0    Male      Bachelor's  Senior Business Development Manager   \n",
       "320  44.0  Female             PhD                Senior Data Scientist   \n",
       "321  31.0    Male      Bachelor's         Junior Marketing Coordinator   \n",
       "322  43.0    Male        Master's               Director of Operations   \n",
       "\n",
       "     Years of Experience    Salary  \n",
       "0                    5.0   90000.0  \n",
       "1                    3.0   65000.0  \n",
       "2                   15.0  150000.0  \n",
       "3                    7.0   60000.0  \n",
       "4                   20.0  200000.0  \n",
       "..                   ...       ...  \n",
       "318                  1.0   35000.0  \n",
       "319                  8.0  110000.0  \n",
       "320                 16.0  160000.0  \n",
       "321                  3.0   55000.0  \n",
       "322                 19.0  170000.0  \n",
       "\n",
       "[323 rows x 6 columns]"
      ]
     },
     "execution_count": 29,
     "metadata": {},
     "output_type": "execute_result"
    }
   ],
   "source": [
    "data"
   ]
  },
  {
   "cell_type": "code",
   "execution_count": 30,
   "id": "d2908d85-9af3-49ee-bf24-e07de5d2daeb",
   "metadata": {},
   "outputs": [
    {
     "name": "stdout",
     "output_type": "stream",
     "text": [
      "Senior Salary:  119878.0487804878\n",
      "Director Salary:  176833.33333333334\n",
      "Manager Salary:  83522.72727272728\n",
      "Cheif Salary:  240000.0\n",
      "Junior Salary:  46166.666666666664\n",
      "Others:  82222.22222222222\n"
     ]
    }
   ],
   "source": [
    "sal_sen = []\n",
    "sal_dir = []\n",
    "sal_man = []\n",
    "sal_che = []\n",
    "sal_jun = []\n",
    "sal_oth = []\n",
    "for i in range(323):\n",
    "    cur  = data['Job Title'][i]\n",
    "    if cur == 'Chief Data Officer' or cur == 'Chief Technology Officer' or cur == 'CEO':\n",
    "        sal_che.append(data['Salary'][i])\n",
    "        continue\n",
    "        \n",
    "    l = cur.split()\n",
    "    \n",
    "    if l[0] == 'Senior':\n",
    "        sal_sen.append(data['Salary'][i])\n",
    "        continue\n",
    "    if l[0] == 'Director':\n",
    "        sal_dir.append(data['Salary'][i])\n",
    "        continue\n",
    "    if l[-1] == 'Manager':\n",
    "        sal_man.append(data['Salary'][i])\n",
    "        continue\n",
    "    \n",
    "    if l[0] == 'Junior':\n",
    "        sal_jun.append(data['Salary'][i])\n",
    "        continue\n",
    "    else:\n",
    "        sal_oth.append(data['Salary'][i])\n",
    "        \n",
    "    \n",
    "        \n",
    "    \n",
    "sal_sen.sort()\n",
    "sal_dir.sort()\n",
    "sal_man.sort()\n",
    "sal_che.sort()\n",
    "sal_jun.sort()\n",
    "sal_oth.sort()\n",
    "print(\"Senior Salary: \",sum(sal_sen) / len(sal_sen))\n",
    "print(\"Director Salary: \",sum(sal_dir) / len(sal_dir))\n",
    "print(\"Manager Salary: \",sum(sal_man) / len(sal_man))\n",
    "print(\"Cheif Salary: \",sum(sal_che) / len(sal_che))\n",
    "print(\"Junior Salary: \",sum(sal_jun) / len(sal_jun))\n",
    "print(\"Others: \" , sum(sal_oth) / len(sal_oth))\n",
    "\n",
    "\n",
    "\n",
    "\n"
   ]
  },
  {
   "cell_type": "code",
   "execution_count": 31,
   "id": "0b45e4c6-88c2-44b3-968c-43a297f8f2bd",
   "metadata": {},
   "outputs": [
    {
     "name": "stdout",
     "output_type": "stream",
     "text": [
      "['Account Manager', 'Accountant', 'Administrative Assistant', 'Administrative Assistant', 'Business Analyst', 'Business Analyst', 'Business Development Manager', 'Business Intelligence Analyst', 'CEO', 'Chief Data Officer', 'Chief Technology Officer', 'Content Marketing Manager', 'Copywriter', 'Creative Director', 'Customer Service Manager', 'Customer Service Manager', 'Customer Service Rep', 'Customer Service Representative', 'Customer Success Manager', 'Customer Success Rep', 'Data Analyst', 'Data Analyst', 'Data Entry Clerk', 'Data Scientist', 'Digital Content Producer', 'Digital Marketing Manager', 'Director', 'Director of Business Development', 'Director of Engineering', 'Director of Engineering', 'Director of Finance', 'Director of Finance', 'Director of HR', 'Director of Human Capital', 'Director of Human Resources', 'Director of Human Resources', 'Director of Marketing', 'Director of Marketing', 'Director of Marketing', 'Director of Marketing', 'Director of Marketing', 'Director of Marketing', 'Director of Marketing', 'Director of Marketing', 'Director of Operations', 'Director of Operations', 'Director of Operations', 'Director of Operations', 'Director of Operations', 'Director of Operations', 'Director of Operations', 'Director of Operations', 'Director of Operations', 'Director of Product Management', 'Director of Sales', 'Director of Sales and Marketing', 'Event Coordinator', 'Event Coordinator', 'Financial Advisor', 'Financial Analyst', 'Financial Manager', 'Graphic Designer', 'HR Generalist', 'HR Generalist', 'HR Manager', 'HR Manager', 'Help Desk Analyst', 'Human Resources Director', 'IT Manager', 'IT Support', 'IT Support Specialist', 'Junior Account Manager', 'Junior Account Manager', 'Junior Accountant', 'Junior Accountant', 'Junior Accountant', 'Junior Advertising Coordinator', 'Junior Business Analyst', 'Junior Business Analyst', 'Junior Business Analyst', 'Junior Business Analyst', 'Junior Business Development Associate', 'Junior Business Development Associate', 'Junior Business Development Associate', 'Junior Business Development Associate', 'Junior Business Operations Analyst', 'Junior Copywriter', 'Junior Customer Support Specialist', 'Junior Data Analyst', 'Junior Data Scientist', 'Junior Designer', 'Junior Developer', 'Junior Financial Advisor', 'Junior Financial Analyst', 'Junior Financial Analyst', 'Junior Financial Analyst', 'Junior Financial Analyst', 'Junior Financial Analyst', 'Junior Financial Analyst', 'Junior HR Coordinator', 'Junior HR Coordinator', 'Junior HR Generalist', 'Junior HR Generalist', 'Junior Marketing Analyst', 'Junior Marketing Analyst', 'Junior Marketing Analyst', 'Junior Marketing Coordinator', 'Junior Marketing Coordinator', 'Junior Marketing Coordinator', 'Junior Marketing Coordinator', 'Junior Marketing Coordinator', 'Junior Marketing Manager', 'Junior Marketing Manager', 'Junior Marketing Manager', 'Junior Marketing Specialist', 'Junior Marketing Specialist', 'Junior Marketing Specialist', 'Junior Marketing Specialist', 'Junior Operations Analyst', 'Junior Operations Analyst', 'Junior Operations Analyst', 'Junior Operations Analyst', 'Junior Operations Coordinator', 'Junior Operations Manager', 'Junior Operations Manager', 'Junior Operations Manager', 'Junior Product Manager', 'Junior Product Manager', 'Junior Product Manager', 'Junior Project Manager', 'Junior Project Manager', 'Junior Project Manager', 'Junior Recruiter', 'Junior Research Scientist', 'Junior Sales Representative', 'Junior Sales Representative', 'Junior Sales Representative', 'Junior Sales Representative', 'Junior Social Media Manager', 'Junior Social Media Specialist', 'Junior Software Developer', 'Junior Software Developer', 'Junior Software Engineer', 'Junior UX Designer', 'Junior Web Designer', 'Junior Web Developer', 'Marketing Analyst', 'Marketing Analyst', 'Marketing Coordinator', 'Marketing Coordinator', 'Marketing Coordinator', 'Marketing Manager', 'Marketing Specialist', 'Network Engineer', 'Office Manager', 'Operations Analyst', 'Operations Director', 'Operations Manager', 'Operations Manager', 'Principal Engineer', 'Principal Scientist', 'Product Designer', 'Product Manager', 'Product Manager', 'Product Marketing Manager', 'Project Engineer', 'Project Manager', 'Project Manager', 'Public Relations Manager', 'Recruiter', 'Recruiter', 'Research Director', 'Research Scientist', 'Sales Associate', 'Sales Associate', 'Sales Director', 'Sales Executive', 'Sales Manager', 'Sales Manager', 'Sales Manager', 'Sales Operations Manager', 'Sales Representative', 'Senior Account Executive', 'Senior Account Manager', 'Senior Accountant', 'Senior Accountant', 'Senior Business Analyst', 'Senior Business Analyst', 'Senior Business Analyst', 'Senior Business Analyst', 'Senior Business Analyst', 'Senior Business Analyst', 'Senior Business Development Manager', 'Senior Business Development Manager', 'Senior Business Development Manager', 'Senior Business Development Manager', 'Senior Consultant', 'Senior Data Analyst', 'Senior Data Analyst', 'Senior Data Analyst', 'Senior Data Engineer', 'Senior Data Engineer', 'Senior Data Scientist', 'Senior Data Scientist', 'Senior Data Scientist', 'Senior Data Scientist', 'Senior Data Scientist', 'Senior Data Scientist', 'Senior Engineer', 'Senior Engineer', 'Senior Financial Advisor', 'Senior Financial Advisor', 'Senior Financial Analyst', 'Senior Financial Analyst', 'Senior Financial Analyst', 'Senior Financial Analyst', 'Senior Financial Analyst', 'Senior Financial Analyst', 'Senior Financial Manager', 'Senior Financial Manager', 'Senior Financial Manager', 'Senior Graphic Designer', 'Senior HR Generalist', 'Senior HR Manager', 'Senior HR Manager', 'Senior HR Manager', 'Senior HR Specialist', 'Senior Human Resources Coordinator', 'Senior Human Resources Manager', 'Senior Human Resources Manager', 'Senior Human Resources Specialist', 'Senior IT Consultant', 'Senior IT Project Manager', 'Senior IT Support Specialist', 'Senior Manager', 'Senior Manager', 'Senior Marketing Analyst', 'Senior Marketing Analyst', 'Senior Marketing Analyst', 'Senior Marketing Analyst', 'Senior Marketing Coordinator', 'Senior Marketing Coordinator', 'Senior Marketing Coordinator', 'Senior Marketing Director', 'Senior Marketing Manager', 'Senior Marketing Manager', 'Senior Marketing Manager', 'Senior Marketing Manager', 'Senior Marketing Manager', 'Senior Marketing Manager', 'Senior Marketing Manager', 'Senior Marketing Manager', 'Senior Marketing Specialist', 'Senior Marketing Specialist', 'Senior Marketing Specialist', 'Senior Operations Analyst', 'Senior Operations Analyst', 'Senior Operations Coordinator', 'Senior Operations Coordinator', 'Senior Operations Manager', 'Senior Operations Manager', 'Senior Operations Manager', 'Senior Operations Manager', 'Senior Operations Manager', 'Senior Product Designer', 'Senior Product Designer', 'Senior Product Designer', 'Senior Product Development Manager', 'Senior Product Manager', 'Senior Product Manager', 'Senior Product Manager', 'Senior Product Manager', 'Senior Product Manager', 'Senior Product Marketing Manager', 'Senior Project Coordinator', 'Senior Project Coordinator', 'Senior Project Coordinator', 'Senior Project Manager', 'Senior Project Manager', 'Senior Project Manager', 'Senior Project Manager', 'Senior Project Manager', 'Senior Project Manager', 'Senior Project Manager', 'Senior Quality Assurance Analyst', 'Senior Research Scientist', 'Senior Researcher', 'Senior Sales Manager', 'Senior Sales Manager', 'Senior Sales Representative', 'Senior Sales Representative', 'Senior Scientist', 'Senior Scientist', 'Senior Scientist', 'Senior Software Architect', 'Senior Software Developer', 'Senior Software Developer', 'Senior Software Developer', 'Senior Software Engineer', 'Senior Software Engineer', 'Senior Software Engineer', 'Senior Software Engineer', 'Senior Training Specialist', 'Senior UX Designer', 'Senior UX Designer', 'Social Media Manager', 'Social Media Specialist', 'Software Developer', 'Software Engineer', 'Software Manager', 'Software Project Manager', 'Strategy Consultant', 'Supply Chain Analyst', 'Supply Chain Manager', 'Technical Recruiter', 'Technical Support Specialist', 'Technical Writer', 'Training Specialist', 'UX Designer', 'UX Researcher', 'VP of Finance', 'VP of Operations', 'Web Developer']\n"
     ]
    }
   ],
   "source": [
    "job_tit = []\n",
    "for i in data['Job Title']:\n",
    "    job_tit.append(i)\n",
    "print(sorted(job_tit))"
   ]
  },
  {
   "cell_type": "markdown",
   "id": "34565a36-6af7-4d8e-a8c6-a5236828bf20",
   "metadata": {},
   "source": [
    "## Data plotting"
   ]
  },
  {
   "cell_type": "markdown",
   "id": "1a4bbb3c-1f30-4efe-881a-16960b230fc9",
   "metadata": {},
   "source": [
    "Univariate Analysis\n"
   ]
  },
  {
   "cell_type": "code",
   "execution_count": 32,
   "id": "24137847-3b35-48ea-a3bb-1130e187ec64",
   "metadata": {},
   "outputs": [
    {
     "data": {
      "text/plain": [
       "<Axes: xlabel='Gender', ylabel='count'>"
      ]
     },
     "execution_count": 32,
     "metadata": {},
     "output_type": "execute_result"
    },
    {
     "data": {
      "image/png": "[encoded data removed]",
      "text/plain": [
       "<Figure size 640x480 with 1 Axes>"
      ]
     },
     "metadata": {},
     "output_type": "display_data"
    }
   ],
   "source": [
    "sns.countplot(x='Gender', data = data)"
   ]
  },
  {
   "cell_type": "code",
   "execution_count": 33,
   "id": "e73a834c-82ca-4c54-8c29-b06d8dec68c8",
   "metadata": {},
   "outputs": [
    {
     "data": {
      "text/plain": [
       "<Axes: xlabel='Education Level', ylabel='count'>"
      ]
     },
     "execution_count": 33,
     "metadata": {},
     "output_type": "execute_result"
    },
    {
     "data": {
      "image/png": "[encoded data removed]",
      "text/plain": [
       "<Figure size 640x480 with 1 Axes>"
      ]
     },
     "metadata": {},
     "output_type": "display_data"
    }
   ],
   "source": [
    "sns.countplot(x= 'Education Level', data=data)"
   ]
  },
  {
   "cell_type": "code",
   "execution_count": 34,
   "id": "5b82c1d1-8b50-440a-beb9-4b5dd089fbcb",
   "metadata": {},
   "outputs": [
    {
     "data": {
      "text/plain": [
       "(array([11., 36., 27., 16., 27., 16., 17., 19., 25., 14., 10., 11., 27.,\n",
       "         5., 11., 13., 24.,  8.,  2.,  4.]),\n",
       " array([ 0.  ,  1.25,  2.5 ,  3.75,  5.  ,  6.25,  7.5 ,  8.75, 10.  ,\n",
       "        11.25, 12.5 , 13.75, 15.  , 16.25, 17.5 , 18.75, 20.  , 21.25,\n",
       "        22.5 , 23.75, 25.  ]),\n",
       " <BarContainer object of 20 artists>)"
      ]
     },
     "execution_count": 34,
     "metadata": {},
     "output_type": "execute_result"
    },
    {
     "data": {
      "image/png": "[encoded data removed]",
      "text/plain": [
       "<Figure size 640x480 with 1 Axes>"
      ]
     },
     "metadata": {},
     "output_type": "display_data"
    }
   ],
   "source": [
    "plt.hist(x= data['Years of Experience'],bins=20)"
   ]
  },
  {
   "cell_type": "code",
   "execution_count": 35,
   "id": "3311d0f1-d000-41ee-baac-7b421509134d",
   "metadata": {},
   "outputs": [
    {
     "data": {
      "text/plain": [
       "(0.0, 40.0)"
      ]
     },
     "execution_count": 35,
     "metadata": {},
     "output_type": "execute_result"
    },
    {
     "data": {
      "image/png": "[encoded data removed]",
      "text/plain": [
       "<Figure size 500x500 with 1 Axes>"
      ]
     },
     "metadata": {},
     "output_type": "display_data"
    }
   ],
   "source": [
    "plt.figure(figsize=(5,5))\n",
    "data['Years of Experience'].plot(kind = 'density')\n",
    "plt.xlabel('Years of Experience')\n",
    "plt.xlim(0) "
   ]
  },
  {
   "cell_type": "code",
   "execution_count": 36,
   "id": "962398fd-65eb-4f84-a12e-8edd52def4fa",
   "metadata": {},
   "outputs": [
    {
     "data": {
      "text/plain": [
       "(0.0, 71.0)"
      ]
     },
     "execution_count": 36,
     "metadata": {},
     "output_type": "execute_result"
    },
    {
     "data": {
      "image/png": "[encoded data removed]",
      "text/plain": [
       "<Figure size 500x500 with 1 Axes>"
      ]
     },
     "metadata": {},
     "output_type": "display_data"
    }
   ],
   "source": [
    "plt.figure(figsize=(5,5))\n",
    "data['Age'].plot(kind = 'density')\n",
    "plt.xlabel('Age')\n",
    "plt.xlim(0) "
   ]
  },
  {
   "cell_type": "markdown",
   "id": "d02ddd30-cdba-447e-9d1b-b8bf11a6e07e",
   "metadata": {},
   "source": [
    "Bivariate and Multivariate Analysis"
   ]
  },
  {
   "cell_type": "code",
   "execution_count": 37,
   "id": "84d110ee-95bf-4226-825a-88149faa9f8b",
   "metadata": {},
   "outputs": [
    {
     "data": {
      "text/plain": [
       "<Axes: xlabel='Age', ylabel='Salary'>"
      ]
     },
     "execution_count": 37,
     "metadata": {},
     "output_type": "execute_result"
    },
    {
     "data": {
      "image/png": "[encoded data removed]",
      "text/plain": [
       "<Figure size 640x480 with 1 Axes>"
      ]
     },
     "metadata": {},
     "output_type": "display_data"
    }
   ],
   "source": [
    "sns.scatterplot(x=data['Age'],y=data['Salary'], hue = data['Gender'],style=data['Education Level'])"
   ]
  },
  {
   "cell_type": "code",
   "execution_count": 38,
   "id": "2d3f01d2-bbd7-4e57-a910-cbe4ab122627",
   "metadata": {},
   "outputs": [
    {
     "data": {
      "text/plain": [
       "<Axes: xlabel='Years of Experience', ylabel='Salary'>"
      ]
     },
     "execution_count": 38,
     "metadata": {},
     "output_type": "execute_result"
    },
    {
     "data": {
      "image/png": "[encoded data removed]",
      "text/plain": [
       "<Figure size 640x480 with 1 Axes>"
      ]
     },
     "metadata": {},
     "output_type": "display_data"
    }
   ],
   "source": [
    "sns.scatterplot(x=data['Years of Experience'],y=data['Salary'], hue = data['Gender'],style=data['Education Level'])"
   ]
  },
  {
   "cell_type": "code",
   "execution_count": 39,
   "id": "cac23a88-9a80-4ecc-abfa-b008aff61a2d",
   "metadata": {},
   "outputs": [
    {
     "data": {
      "text/plain": [
       "<Axes: xlabel='Gender', ylabel='Salary'>"
      ]
     },
     "execution_count": 39,
     "metadata": {},
     "output_type": "execute_result"
    },
    {
     "data": {
      "image/png": "[encoded data removed]",
      "text/plain": [
       "<Figure size 640x480 with 1 Axes>"
      ]
     },
     "metadata": {},
     "output_type": "display_data"
    }
   ],
   "source": [
    "sns.barplot(x=data['Gender'],y=data['Salary'])"
   ]
  },
  {
   "cell_type": "code",
   "execution_count": 40,
   "id": "e664bf59-1295-4782-ad32-841bbea4774f",
   "metadata": {},
   "outputs": [
    {
     "data": {
      "text/plain": [
       "<Axes: xlabel='Education Level', ylabel='Salary'>"
      ]
     },
     "execution_count": 40,
     "metadata": {},
     "output_type": "execute_result"
    },
    {
     "data": {
      "image/png": "[encoded data removed]",
      "text/plain": [
       "<Figure size 640x480 with 1 Axes>"
      ]
     },
     "metadata": {},
     "output_type": "display_data"
    }
   ],
   "source": [
    "sns.barplot(x=data['Education Level'],y=data['Salary'])"
   ]
  },
  {
   "cell_type": "code",
   "execution_count": 41,
   "id": "defa7571-89df-488f-9598-88ffdb6750f3",
   "metadata": {},
   "outputs": [
    {
     "name": "stderr",
     "output_type": "stream",
     "text": [
      "C:\\Users\\afeef\\AppData\\Local\\Programs\\Python\\Python311\\Lib\\site-packages\\seaborn\\axisgrid.py:118: UserWarning: The figure layout has changed to tight\n",
      "  self._figure.tight_layout(*args, **kwargs)\n"
     ]
    },
    {
     "data": {
      "text/plain": [
       "<seaborn.axisgrid.PairGrid at 0x1ccb1589f10>"
      ]
     },
     "execution_count": 41,
     "metadata": {},
     "output_type": "execute_result"
    },
    {
     "data": {
      "image/png": "[encoded data removed]",
      "text/plain": [
       "<Figure size 500x500 with 6 Axes>"
      ]
     },
     "metadata": {},
     "output_type": "display_data"
    }
   ],
   "source": [
    "sns.pairplot(data.iloc[:,1:])"
   ]
  },
  {
   "cell_type": "code",
   "execution_count": 42,
   "id": "24605259-a4b4-4a44-8988-6745d63a1bb1",
   "metadata": {},
   "outputs": [
    {
     "data": {
      "text/plain": [
       "<Axes: xlabel='Years of Experience', ylabel='Salary'>"
      ]
     },
     "execution_count": 42,
     "metadata": {},
     "output_type": "execute_result"
    },
    {
     "data": {
      "image/png": "[encoded data removed]",
      "text/plain": [
       "<Figure size 640x480 with 1 Axes>"
      ]
     },
     "metadata": {},
     "output_type": "display_data"
    }
   ],
   "source": [
    "sns.lineplot(x=data['Years of Experience'],y=data['Salary'])"
   ]
  },
  {
   "cell_type": "markdown",
   "id": "93f2c918-c710-4824-853d-200f4a975f37",
   "metadata": {},
   "source": [
    "## Feature Engineering"
   ]
  },
  {
   "cell_type": "code",
   "execution_count": 43,
   "id": "d3121ddb-eaa6-46f0-99b8-197fc4123f92",
   "metadata": {},
   "outputs": [],
   "source": [
    "OEJob_title = []\n",
    "def index(s):\n",
    "    if s=='CEO':\n",
    "        return 240\n",
    "    if s == 'Chief Data Officer' or s == 'Chief Technology Officer':\n",
    "        return 230\n",
    "    l = s.split()\n",
    "    if l[0] == 'Senior':\n",
    "        return random.randint(110,130)\n",
    "    if l[0] == 'Junior':\n",
    "        return random.randint(37,54)\n",
    "    if l[-1] == 'Manager':\n",
    "        return random.randint(73,93)\n",
    "    if l[0] == 'Director':\n",
    "        return random.randint(155,195)\n",
    "    else:\n",
    "        return random.randint(50,110)\n",
    "    "
   ]
  },
  {
   "cell_type": "code",
   "execution_count": 44,
   "id": "fc93c7b6-3bf4-4a79-834d-8381431635aa",
   "metadata": {},
   "outputs": [
    {
     "name": "stdout",
     "output_type": "stream",
     "text": [
      "0       93\n",
      "1      100\n",
      "2      122\n",
      "3       78\n",
      "4      177\n",
      "      ... \n",
      "318     44\n",
      "319    110\n",
      "320    130\n",
      "321     42\n",
      "322    188\n",
      "Name: Job Title, Length: 323, dtype: object\n"
     ]
    }
   ],
   "source": [
    "for i in range(len(data['Job Title'])):\n",
    "    title = data['Job Title'][i]\n",
    "    index_value=index(title)\n",
    "    data.loc[i, 'Job Title'] = index_value\n",
    "print(data['Job Title'])"
   ]
  },
  {
   "cell_type": "code",
   "execution_count": 45,
   "id": "ea04ca8a-3f94-444b-8d96-fc177fd754f7",
   "metadata": {},
   "outputs": [
    {
     "data": {
      "text/plain": [
       "<Axes: xlabel='Job Title', ylabel='Salary'>"
      ]
     },
     "execution_count": 45,
     "metadata": {},
     "output_type": "execute_result"
    },
    {
     "data": {
      "image/png": "[encoded data removed]",
      "text/plain": [
       "<Figure size 640x480 with 1 Axes>"
      ]
     },
     "metadata": {},
     "output_type": "display_data"
    }
   ],
   "source": [
    "sns.scatterplot(x=data['Job Title'],y=data['Salary'])"
   ]
  },
  {
   "cell_type": "code",
   "execution_count": 46,
   "id": "81e6b9fd-7e31-47d9-b8a6-f239dc001555",
   "metadata": {},
   "outputs": [],
   "source": [
    "from sklearn.model_selection import train_test_split"
   ]
  },
  {
   "cell_type": "code",
   "execution_count": 47,
   "id": "a5ea4a78-39aa-43ef-a933-0500c848df6d",
   "metadata": {},
   "outputs": [],
   "source": [
    "X_train, X_test, y_train, y_test = train_test_split(data.iloc[:, :-1], data.iloc[:, -1], test_size=0.1, random_state=42)\n"
   ]
  },
  {
   "cell_type": "code",
   "execution_count": 48,
   "id": "bc9b82cb-1e30-44c3-8c63-8aefb807e9ea",
   "metadata": {},
   "outputs": [],
   "source": [
    "from sklearn.preprocessing import OneHotEncoder\n",
    "from sklearn.preprocessing import OrdinalEncoder\n",
    "from sklearn.compose import ColumnTransformer\n",
    "from sklearn.preprocessing import StandardScaler"
   ]
  },
  {
   "cell_type": "code",
   "execution_count": 49,
   "id": "4dd86b46-aa60-4eb9-bf6f-af0fcafbf2ca",
   "metadata": {},
   "outputs": [
    {
     "data": {
      "text/html": [
       "<div>\n",
       "<style scoped>\n",
       "    .dataframe tbody tr th:only-of-type {\n",
       "        vertical-align: middle;\n",
       "    }\n",
       "\n",
       "    .dataframe tbody tr th {\n",
       "        vertical-align: top;\n",
       "    }\n",
       "\n",
       "    .dataframe thead th {\n",
       "        text-align: right;\n",
       "    }\n",
       "</style>\n",
       "<table border=\"1\" class=\"dataframe\">\n",
       "  <thead>\n",
       "    <tr style=\"text-align: right;\">\n",
       "      <th></th>\n",
       "      <th>Age</th>\n",
       "      <th>Gender</th>\n",
       "      <th>Education Level</th>\n",
       "      <th>Job Title</th>\n",
       "      <th>Years of Experience</th>\n",
       "    </tr>\n",
       "  </thead>\n",
       "  <tbody>\n",
       "    <tr>\n",
       "      <th>209</th>\n",
       "      <td>45.0</td>\n",
       "      <td>Female</td>\n",
       "      <td>PhD</td>\n",
       "      <td>118</td>\n",
       "      <td>15.0</td>\n",
       "    </tr>\n",
       "    <tr>\n",
       "      <th>248</th>\n",
       "      <td>37.0</td>\n",
       "      <td>Female</td>\n",
       "      <td>Bachelor's</td>\n",
       "      <td>122</td>\n",
       "      <td>10.0</td>\n",
       "    </tr>\n",
       "    <tr>\n",
       "      <th>172</th>\n",
       "      <td>43.0</td>\n",
       "      <td>Male</td>\n",
       "      <td>Bachelor's</td>\n",
       "      <td>115</td>\n",
       "      <td>16.0</td>\n",
       "    </tr>\n",
       "    <tr>\n",
       "      <th>291</th>\n",
       "      <td>30.0</td>\n",
       "      <td>Female</td>\n",
       "      <td>Bachelor's</td>\n",
       "      <td>43</td>\n",
       "      <td>2.0</td>\n",
       "    </tr>\n",
       "    <tr>\n",
       "      <th>33</th>\n",
       "      <td>39.0</td>\n",
       "      <td>Female</td>\n",
       "      <td>Bachelor's</td>\n",
       "      <td>101</td>\n",
       "      <td>10.0</td>\n",
       "    </tr>\n",
       "    <tr>\n",
       "      <th>...</th>\n",
       "      <td>...</td>\n",
       "      <td>...</td>\n",
       "      <td>...</td>\n",
       "      <td>...</td>\n",
       "      <td>...</td>\n",
       "    </tr>\n",
       "    <tr>\n",
       "      <th>188</th>\n",
       "      <td>28.0</td>\n",
       "      <td>Male</td>\n",
       "      <td>Bachelor's</td>\n",
       "      <td>45</td>\n",
       "      <td>1.5</td>\n",
       "    </tr>\n",
       "    <tr>\n",
       "      <th>71</th>\n",
       "      <td>39.0</td>\n",
       "      <td>Female</td>\n",
       "      <td>Bachelor's</td>\n",
       "      <td>84</td>\n",
       "      <td>11.0</td>\n",
       "    </tr>\n",
       "    <tr>\n",
       "      <th>106</th>\n",
       "      <td>30.0</td>\n",
       "      <td>Female</td>\n",
       "      <td>Bachelor's</td>\n",
       "      <td>71</td>\n",
       "      <td>3.0</td>\n",
       "    </tr>\n",
       "    <tr>\n",
       "      <th>270</th>\n",
       "      <td>44.0</td>\n",
       "      <td>Female</td>\n",
       "      <td>PhD</td>\n",
       "      <td>124</td>\n",
       "      <td>15.0</td>\n",
       "    </tr>\n",
       "    <tr>\n",
       "      <th>102</th>\n",
       "      <td>49.0</td>\n",
       "      <td>Female</td>\n",
       "      <td>Master's</td>\n",
       "      <td>120</td>\n",
       "      <td>19.0</td>\n",
       "    </tr>\n",
       "  </tbody>\n",
       "</table>\n",
       "<p>290 rows × 5 columns</p>\n",
       "</div>"
      ],
      "text/plain": [
       "      Age  Gender Education Level Job Title  Years of Experience\n",
       "209  45.0  Female             PhD       118                 15.0\n",
       "248  37.0  Female      Bachelor's       122                 10.0\n",
       "172  43.0    Male      Bachelor's       115                 16.0\n",
       "291  30.0  Female      Bachelor's        43                  2.0\n",
       "33   39.0  Female      Bachelor's       101                 10.0\n",
       "..    ...     ...             ...       ...                  ...\n",
       "188  28.0    Male      Bachelor's        45                  1.5\n",
       "71   39.0  Female      Bachelor's        84                 11.0\n",
       "106  30.0  Female      Bachelor's        71                  3.0\n",
       "270  44.0  Female             PhD       124                 15.0\n",
       "102  49.0  Female        Master's       120                 19.0\n",
       "\n",
       "[290 rows x 5 columns]"
      ]
     },
     "execution_count": 49,
     "metadata": {},
     "output_type": "execute_result"
    }
   ],
   "source": [
    "X_train"
   ]
  },
  {
   "cell_type": "code",
   "execution_count": 50,
   "id": "05b20d26-cda7-455f-b29b-b60b7932ed32",
   "metadata": {},
   "outputs": [],
   "source": [
    "transformer = ColumnTransformer(transformers=[\n",
    "    ('tnf1',OrdinalEncoder(categories=[[\"Bachelor's\",\"Master's\",\"PhD\"]]),['Education Level']),\n",
    "    ('tnf2',OneHotEncoder(drop=None,sparse=False),['Gender']),\n",
    "    ('scaler', StandardScaler(), ['Age','Years of Experience','Job Title'])\n",
    "], remainder='passthrough')"
   ]
  },
  {
   "cell_type": "code",
   "execution_count": 51,
   "id": "e539fc74-5d0b-4a33-87ef-d134efd1b393",
   "metadata": {},
   "outputs": [
    {
     "name": "stderr",
     "output_type": "stream",
     "text": [
      "C:\\Users\\afeef\\AppData\\Local\\Programs\\Python\\Python311\\Lib\\site-packages\\sklearn\\preprocessing\\_encoders.py:972: FutureWarning: `sparse` was renamed to `sparse_output` in version 1.2 and will be removed in 1.4. `sparse_output` is ignored unless you leave `sparse` to its default value.\n",
      "  warnings.warn(\n"
     ]
    }
   ],
   "source": [
    " X_tr =transformer.fit_transform(X_train)"
   ]
  },
  {
   "cell_type": "code",
   "execution_count": 52,
   "id": "16cbb478-5c19-4c5e-bcc7-3e13d32c6053",
   "metadata": {},
   "outputs": [
    {
     "name": "stdout",
     "output_type": "stream",
     "text": [
      "       0    1    2         3         4         5\n",
      "0    2.0  1.0  0.0  1.038999  0.727491  0.487739\n",
      "1    0.0  1.0  0.0 -0.065711 -0.016680  0.582541\n",
      "2    0.0  0.0  1.0  0.762821  0.876325  0.416638\n",
      "3    0.0  1.0  0.0 -1.032332 -1.207353 -1.289796\n",
      "4    0.0  1.0  0.0  0.210466 -0.016680  0.084831\n",
      "..   ...  ...  ...       ...       ...       ...\n",
      "285  0.0  0.0  1.0 -1.308510 -1.281770 -1.242395\n",
      "286  0.0  1.0  0.0  0.210466  0.132154 -0.318077\n",
      "287  0.0  1.0  0.0 -1.032332 -1.058519 -0.626183\n",
      "288  2.0  1.0  0.0  0.900910  0.727491  0.629942\n",
      "289  1.0  1.0  0.0  1.591354  1.322827  0.535140\n",
      "\n",
      "[290 rows x 6 columns]\n"
     ]
    }
   ],
   "source": [
    "transformed_df = pd.DataFrame(X_tr)\n",
    "\n",
    "# Display the transformed DataFrame\n",
    "print(transformed_df)"
   ]
  },
  {
   "cell_type": "code",
   "execution_count": 53,
   "id": "2b1d2ce2-c093-4ec3-81eb-c1767206c061",
   "metadata": {},
   "outputs": [],
   "source": [
    "X_train = transformed_df"
   ]
  },
  {
   "cell_type": "code",
   "execution_count": 54,
   "id": "61dce907-55ac-4335-9d1f-dfa8afa47109",
   "metadata": {},
   "outputs": [
    {
     "name": "stderr",
     "output_type": "stream",
     "text": [
      "C:\\Users\\afeef\\AppData\\Local\\Programs\\Python\\Python311\\Lib\\site-packages\\sklearn\\preprocessing\\_encoders.py:972: FutureWarning: `sparse` was renamed to `sparse_output` in version 1.2 and will be removed in 1.4. `sparse_output` is ignored unless you leave `sparse` to its default value.\n",
      "  warnings.warn(\n"
     ]
    }
   ],
   "source": [
    "X_te = transformer.fit_transform(X_test)"
   ]
  },
  {
   "cell_type": "code",
   "execution_count": 55,
   "id": "f2e275e7-0cfc-47fe-96a8-c45b860ff08c",
   "metadata": {},
   "outputs": [],
   "source": [
    "transformed_df = pd.DataFrame(X_te)"
   ]
  },
  {
   "cell_type": "code",
   "execution_count": 56,
   "id": "539413c7-e7e5-429f-a96c-1f3710ca68b8",
   "metadata": {},
   "outputs": [],
   "source": [
    "X_test = transformed_df"
   ]
  },
  {
   "cell_type": "code",
   "execution_count": 57,
   "id": "adbad0c2-5773-488b-b686-19accf26e431",
   "metadata": {},
   "outputs": [
    {
     "name": "stdout",
     "output_type": "stream",
     "text": [
      "      0    1    2         3         4         5\n",
      "0   1.0  1.0  0.0 -1.668735 -1.433836 -1.773449\n",
      "1   1.0  1.0  0.0  0.490804  0.369519  0.863827\n",
      "2   1.0  0.0  1.0 -0.280460 -0.145726  0.567504\n",
      "3   2.0  0.0  1.0  0.182299  0.026022  0.893459\n",
      "4   1.0  1.0  0.0  0.336551  0.541267  0.656401\n",
      "5   1.0  0.0  1.0 -0.280460  0.026022  0.330445\n",
      "6   2.0  0.0  1.0  1.262068  1.056511  0.478607\n",
      "7   2.0  1.0  0.0  2.187585  2.258748  2.138017\n",
      "8   1.0  0.0  1.0  0.028046 -0.145726  0.300813\n",
      "9   0.0  1.0  0.0 -0.280460 -0.317474  0.508239\n",
      "10  0.0  1.0  0.0 -0.743218 -0.832718 -1.714185\n",
      "11  2.0  0.0  1.0 -0.126207  0.197771  0.211916\n",
      "12  2.0  0.0  1.0  1.107815  1.056511  0.686033\n",
      "13  0.0  1.0  0.0 -1.205976 -1.347962 -1.654920\n",
      "14  1.0  1.0  0.0 -0.588965 -0.660970  0.537871\n",
      "15  0.0  0.0  1.0 -0.280460 -0.145726  0.626768\n",
      "16  1.0  1.0  0.0  0.028046 -0.145726  0.686033\n",
      "17  1.0  1.0  0.0  1.724826  1.743503 -1.151171\n",
      "18  0.0  1.0  0.0 -1.360229 -1.176214 -1.062274\n",
      "19  0.0  0.0  1.0 -1.205976 -1.347962 -0.321466\n",
      "20  0.0  0.0  1.0 -0.897471 -1.004466 -1.477126\n",
      "21  0.0  0.0  1.0 -0.126207 -0.145726 -0.588157\n",
      "22  0.0  0.0  1.0 -0.743218 -0.832718 -0.795583\n",
      "23  0.0  0.0  1.0 -0.588965 -1.004466 -1.714185\n",
      "24  2.0  1.0  0.0  0.953563  0.884763  0.300813\n",
      "25  0.0  1.0  0.0 -2.131493 -1.605584 -1.832714\n",
      "26  2.0  0.0  1.0  0.953563  1.228259  0.626768\n",
      "27  1.0  0.0  1.0 -0.743218 -0.660970  0.626768\n",
      "28  2.0  0.0  1.0  1.262068  1.228259  0.863827\n",
      "29  0.0  1.0  0.0  0.336551 -0.145726  0.656401\n",
      "30  1.0  1.0  0.0  0.645057  0.713015  0.330445\n",
      "31  1.0  0.0  1.0  0.182299 -0.145726  0.419342\n",
      "32  2.0  0.0  1.0  1.570574  1.915251  0.774930\n"
     ]
    }
   ],
   "source": [
    "print(X_test)"
   ]
  },
  {
   "cell_type": "markdown",
   "id": "7b959a39-af58-4db6-bd99-e0118b9774e7",
   "metadata": {},
   "source": [
    "## Training The Model\n"
   ]
  },
  {
   "cell_type": "code",
   "execution_count": 58,
   "id": "1d1181f1-104d-4a16-9a9a-740854e72187",
   "metadata": {},
   "outputs": [],
   "source": [
    "from sklearn.linear_model import LinearRegression"
   ]
  },
  {
   "cell_type": "code",
   "execution_count": 59,
   "id": "803a7c0a-4b2e-43d1-9cbc-da03d26a3a76",
   "metadata": {},
   "outputs": [],
   "source": [
    "lr = LinearRegression()"
   ]
  },
  {
   "cell_type": "code",
   "execution_count": 60,
   "id": "7151e6dc-8594-4b3a-9def-4714f711f1cb",
   "metadata": {},
   "outputs": [
    {
     "data": {
      "text/html": [
       "<style>#sk-container-id-1 {color: black;}#sk-container-id-1 pre{padding: 0;}#sk-container-id-1 div.sk-toggleable {background-color: white;}#sk-container-id-1 label.sk-toggleable__label {cursor: pointer;display: block;width: 100%;margin-bottom: 0;padding: 0.3em;box-sizing: border-box;text-align: center;}#sk-container-id-1 label.sk-toggleable__label-arrow:before {content: \"▸\";float: left;margin-right: 0.25em;color: #696969;}#sk-container-id-1 label.sk-toggleable__label-arrow:hover:before {color: black;}#sk-container-id-1 div.sk-estimator:hover label.sk-toggleable__label-arrow:before {color: black;}#sk-container-id-1 div.sk-toggleable__content {max-height: 0;max-width: 0;overflow: hidden;text-align: left;background-color: #f0f8ff;}#sk-container-id-1 div.sk-toggleable__content pre {margin: 0.2em;color: black;border-radius: 0.25em;background-color: #f0f8ff;}#sk-container-id-1 input.sk-toggleable__control:checked~div.sk-toggleable__content {max-height: 200px;max-width: 100%;overflow: auto;}#sk-container-id-1 input.sk-toggleable__control:checked~label.sk-toggleable__label-arrow:before {content: \"▾\";}#sk-container-id-1 div.sk-estimator input.sk-toggleable__control:checked~label.sk-toggleable__label {background-color: #d4ebff;}#sk-container-id-1 div.sk-label input.sk-toggleable__control:checked~label.sk-toggleable__label {background-color: #d4ebff;}#sk-container-id-1 input.sk-hidden--visually {border: 0;clip: rect(1px 1px 1px 1px);clip: rect(1px, 1px, 1px, 1px);height: 1px;margin: -1px;overflow: hidden;padding: 0;position: absolute;width: 1px;}#sk-container-id-1 div.sk-estimator {font-family: monospace;background-color: #f0f8ff;border: 1px dotted black;border-radius: 0.25em;box-sizing: border-box;margin-bottom: 0.5em;}#sk-container-id-1 div.sk-estimator:hover {background-color: #d4ebff;}#sk-container-id-1 div.sk-parallel-item::after {content: \"\";width: 100%;border-bottom: 1px solid gray;flex-grow: 1;}#sk-container-id-1 div.sk-label:hover label.sk-toggleable__label {background-color: #d4ebff;}#sk-container-id-1 div.sk-serial::before {content: \"\";position: absolute;border-left: 1px solid gray;box-sizing: border-box;top: 0;bottom: 0;left: 50%;z-index: 0;}#sk-container-id-1 div.sk-serial {display: flex;flex-direction: column;align-items: center;background-color: white;padding-right: 0.2em;padding-left: 0.2em;position: relative;}#sk-container-id-1 div.sk-item {position: relative;z-index: 1;}#sk-container-id-1 div.sk-parallel {display: flex;align-items: stretch;justify-content: center;background-color: white;position: relative;}#sk-container-id-1 div.sk-item::before, #sk-container-id-1 div.sk-parallel-item::before {content: \"\";position: absolute;border-left: 1px solid gray;box-sizing: border-box;top: 0;bottom: 0;left: 50%;z-index: -1;}#sk-container-id-1 div.sk-parallel-item {display: flex;flex-direction: column;z-index: 1;position: relative;background-color: white;}#sk-container-id-1 div.sk-parallel-item:first-child::after {align-self: flex-end;width: 50%;}#sk-container-id-1 div.sk-parallel-item:last-child::after {align-self: flex-start;width: 50%;}#sk-container-id-1 div.sk-parallel-item:only-child::after {width: 0;}#sk-container-id-1 div.sk-dashed-wrapped {border: 1px dashed gray;margin: 0 0.4em 0.5em 0.4em;box-sizing: border-box;padding-bottom: 0.4em;background-color: white;}#sk-container-id-1 div.sk-label label {font-family: monospace;font-weight: bold;display: inline-block;line-height: 1.2em;}#sk-container-id-1 div.sk-label-container {text-align: center;}#sk-container-id-1 div.sk-container {/* jupyter's `normalize.less` sets `[hidden] { display: none; }` but bootstrap.min.css set `[hidden] { display: none !important; }` so we also need the `!important` here to be able to override the default hidden behavior on the sphinx rendered scikit-learn.org. See: https://github.com/scikit-learn/scikit-learn/issues/21755 */display: inline-block !important;position: relative;}#sk-container-id-1 div.sk-text-repr-fallback {display: none;}</style><div id=\"sk-container-id-1\" class=\"sk-top-container\"><div class=\"sk-text-repr-fallback\"><pre>LinearRegression()</pre><b>In a Jupyter environment, please rerun this cell to show the HTML representation or trust the notebook. <br />On GitHub, the HTML representation is unable to render, please try loading this page with nbviewer.org.</b></div><div class=\"sk-container\" hidden><div class=\"sk-item\"><div class=\"sk-estimator sk-toggleable\"><input class=\"sk-toggleable__control sk-hidden--visually\" id=\"sk-estimator-id-1\" type=\"checkbox\" checked><label for=\"sk-estimator-id-1\" class=\"sk-toggleable__label sk-toggleable__label-arrow\">LinearRegression</label><div class=\"sk-toggleable__content\"><pre>LinearRegression()</pre></div></div></div></div></div>"
      ],
      "text/plain": [
       "LinearRegression()"
      ]
     },
     "execution_count": 60,
     "metadata": {},
     "output_type": "execute_result"
    }
   ],
   "source": [
    "lr.fit(X_train,y_train)"
   ]
  },
  {
   "cell_type": "code",
   "execution_count": 61,
   "id": "eec9157c-52d2-418f-a21e-b692ce74a2cf",
   "metadata": {},
   "outputs": [],
   "source": [
    "y_pred = lr.predict(X_test)"
   ]
  },
  {
   "cell_type": "code",
   "execution_count": 69,
   "id": "d5e1e91e-a771-43cd-a372-7e6183a2f9b7",
   "metadata": {},
   "outputs": [],
   "source": [
    "from sklearn.metrics import mean_absolute_error,r2_score\n"
   ]
  },
  {
   "cell_type": "code",
   "execution_count": 70,
   "id": "f0f0a65b-8500-4b44-94bc-40b84467147d",
   "metadata": {},
   "outputs": [
    {
     "name": "stdout",
     "output_type": "stream",
     "text": [
      "MAE:  13453.177042506464\n",
      "R2 Score:  0.8242684240954646\n"
     ]
    }
   ],
   "source": [
    "print(\"MAE: \", mean_absolute_error(y_test,y_pred))\n",
    "print(\"R2 Score: \" , r2_score(y_test,y_pred))"
   ]
  },
  {
   "cell_type": "code",
   "execution_count": 65,
   "id": "ef98c079-95c5-4a83-859e-07ee09c0e3fc",
   "metadata": {},
   "outputs": [
    {
     "name": "stdout",
     "output_type": "stream",
     "text": [
      "[ 29789.96010322 127217.85604063 110290.72350403 139697.62938337\n",
      " 122667.86899721 108840.13202201 167876.8564488  211363.78825771\n",
      " 113896.61098791  85962.73373454  43234.0113296  125751.19508409\n",
      " 166999.94972075  29027.22895257  89778.25883626  97621.36816021\n",
      " 110047.75521914 141889.94789778  34478.44165921  54360.14344366\n",
      "  49879.04068569  85904.17149931  63381.11854289  53855.34297512\n",
      " 148537.77167811   3716.7874739  164302.03670512  96083.941127\n",
      " 174204.97588348 103206.77619254 127045.65383241 118848.08057708\n",
      " 186084.26005043]\n"
     ]
    }
   ],
   "source": [
    "print(y_pred)"
   ]
  },
  {
   "cell_type": "code",
   "execution_count": 66,
   "id": "43e4939b-524c-4543-b788-3f59a650804a",
   "metadata": {},
   "outputs": [
    {
     "name": "stdout",
     "output_type": "stream",
     "text": [
      "173     45000.0\n",
      "132    100000.0\n",
      "197    110000.0\n",
      "9      110000.0\n",
      "104     80000.0\n",
      "119    120000.0\n",
      "256    150000.0\n",
      "158    185000.0\n",
      "226    120000.0\n",
      "312     90000.0\n",
      "196     55000.0\n",
      "90     120000.0\n",
      "281    160000.0\n",
      "84      40000.0\n",
      "185     95000.0\n",
      "269    100000.0\n",
      "126     95000.0\n",
      "78     180000.0\n",
      "25      45000.0\n",
      "5       55000.0\n",
      "204     50000.0\n",
      "55      95000.0\n",
      "46      75000.0\n",
      "305     60000.0\n",
      "299    150000.0\n",
      "114     35000.0\n",
      "57     140000.0\n",
      "77     100000.0\n",
      "195    155000.0\n",
      "255    110000.0\n",
      "108    100000.0\n",
      "208    110000.0\n",
      "63     180000.0\n",
      "Name: Salary, dtype: float64\n"
     ]
    }
   ],
   "source": [
    "print(y_test)"
   ]
  },
  {
   "cell_type": "code",
   "execution_count": 67,
   "id": "6651d51d-c8e9-497b-8c97-c974d01e7247",
   "metadata": {},
   "outputs": [
    {
     "name": "stdout",
     "output_type": "stream",
     "text": [
      "      0    1    2         3         4         5\n",
      "0   1.0  1.0  0.0 -1.668735 -1.433836 -1.773449\n",
      "1   1.0  1.0  0.0  0.490804  0.369519  0.863827\n",
      "2   1.0  0.0  1.0 -0.280460 -0.145726  0.567504\n",
      "3   2.0  0.0  1.0  0.182299  0.026022  0.893459\n",
      "4   1.0  1.0  0.0  0.336551  0.541267  0.656401\n",
      "5   1.0  0.0  1.0 -0.280460  0.026022  0.330445\n",
      "6   2.0  0.0  1.0  1.262068  1.056511  0.478607\n",
      "7   2.0  1.0  0.0  2.187585  2.258748  2.138017\n",
      "8   1.0  0.0  1.0  0.028046 -0.145726  0.300813\n",
      "9   0.0  1.0  0.0 -0.280460 -0.317474  0.508239\n",
      "10  0.0  1.0  0.0 -0.743218 -0.832718 -1.714185\n",
      "11  2.0  0.0  1.0 -0.126207  0.197771  0.211916\n",
      "12  2.0  0.0  1.0  1.107815  1.056511  0.686033\n",
      "13  0.0  1.0  0.0 -1.205976 -1.347962 -1.654920\n",
      "14  1.0  1.0  0.0 -0.588965 -0.660970  0.537871\n",
      "15  0.0  0.0  1.0 -0.280460 -0.145726  0.626768\n",
      "16  1.0  1.0  0.0  0.028046 -0.145726  0.686033\n",
      "17  1.0  1.0  0.0  1.724826  1.743503 -1.151171\n",
      "18  0.0  1.0  0.0 -1.360229 -1.176214 -1.062274\n",
      "19  0.0  0.0  1.0 -1.205976 -1.347962 -0.321466\n",
      "20  0.0  0.0  1.0 -0.897471 -1.004466 -1.477126\n",
      "21  0.0  0.0  1.0 -0.126207 -0.145726 -0.588157\n",
      "22  0.0  0.0  1.0 -0.743218 -0.832718 -0.795583\n",
      "23  0.0  0.0  1.0 -0.588965 -1.004466 -1.714185\n",
      "24  2.0  1.0  0.0  0.953563  0.884763  0.300813\n",
      "25  0.0  1.0  0.0 -2.131493 -1.605584 -1.832714\n",
      "26  2.0  0.0  1.0  0.953563  1.228259  0.626768\n",
      "27  1.0  0.0  1.0 -0.743218 -0.660970  0.626768\n",
      "28  2.0  0.0  1.0  1.262068  1.228259  0.863827\n",
      "29  0.0  1.0  0.0  0.336551 -0.145726  0.656401\n",
      "30  1.0  1.0  0.0  0.645057  0.713015  0.330445\n",
      "31  1.0  0.0  1.0  0.182299 -0.145726  0.419342\n",
      "32  2.0  0.0  1.0  1.570574  1.915251  0.774930\n"
     ]
    }
   ],
   "source": [
    "print(X_test)"
   ]
  },
  {
   "cell_type": "code",
   "execution_count": null,
   "id": "1af087c5-da08-4a5d-82e7-206bc466a163",
   "metadata": {},
   "outputs": [],
   "source": []
  }
 ],
 "metadata": {
  "kernelspec": {
   "display_name": "Python 3 (ipykernel)",
   "language": "python",
   "name": "python3"
  },
  "language_info": {
   "codemirror_mode": {
    "name": "ipython",
    "version": 3
   },
   "file_extension": ".py",
   "mimetype": "text/x-python",
   "name": "python",
   "nbconvert_exporter": "python",
   "pygments_lexer": "ipython3",
   "version": "3.11.4"
  }
 },
 "nbformat": 4,
 "nbformat_minor": 5
}
